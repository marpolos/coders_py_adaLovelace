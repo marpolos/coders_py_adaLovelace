{
 "cells": [
  {
   "cell_type": "code",
   "execution_count": 3,
   "metadata": {},
   "outputs": [
    {
     "name": "stdout",
     "output_type": "stream",
     "text": [
      "nome: São Paulo\n",
      "estado: SP\n",
      "pop_milhoes: 12.18\n"
     ]
    }
   ],
   "source": [
    "#iterar um dict\n",
    "dados_cidade = {\n",
    "    \"nome\": \"São Paulo\",\n",
    "    \"estado\": \"SP\",\n",
    "    \"pop_milhoes\": 12.18\n",
    "}\n",
    "\n",
    "for chave in dados_cidade:\n",
    "    print(f\"{chave}: {dados_cidade[chave]}\")"
   ]
  },
  {
   "cell_type": "code",
   "execution_count": 5,
   "metadata": {},
   "outputs": [
    {
     "name": "stdout",
     "output_type": "stream",
     "text": [
      "['Rio de Janeiro', 'Guarulhos', 'São Gonçalo', 'Paris']\n",
      "['Rio de Janeiro', 'Rio de Janeiro', 'Rio de Janeiro', 'Rio de Janeiro']\n"
     ]
    }
   ],
   "source": [
    "# alterar elementos por posição, pois diretamente não funciona\n",
    "cidades = [\"Rio de Janeiro\", \"Guarulhos\", \"São Gonçalo\", \"Paris\"]\n",
    "for nome in cidades:\n",
    "    nome = \"Rio de Janeiro\"\n",
    "\n",
    "print(cidades)\n",
    "\n",
    "#Funciona\n",
    "for position in range(len(cidades)):\n",
    "    cidades[position] = \"Rio de Janeiro\"\n",
    "\n",
    "print(cidades)\n"
   ]
  },
  {
   "cell_type": "code",
   "execution_count": 7,
   "metadata": {},
   "outputs": [
    {
     "name": "stdout",
     "output_type": "stream",
     "text": [
      "[0, 1, 2, 3, 4, 5, 6, 7, 8, 9]\n",
      "[2, 3, 4, 5, 6, 7, 8, 9]\n",
      "[2, 4, 6, 8]\n"
     ]
    }
   ],
   "source": [
    "#range\n",
    "print(list(range(10)))\n",
    "print(list(range(2, 10)))\n",
    "print(list(range(2, 10, 2)))\n"
   ]
  }
 ],
 "metadata": {
  "kernelspec": {
   "display_name": "Python 3.8.10 64-bit",
   "language": "python",
   "name": "python3"
  },
  "language_info": {
   "codemirror_mode": {
    "name": "ipython",
    "version": 3
   },
   "file_extension": ".py",
   "mimetype": "text/x-python",
   "name": "python",
   "nbconvert_exporter": "python",
   "pygments_lexer": "ipython3",
   "version": "3.8.10"
  },
  "orig_nbformat": 4,
  "vscode": {
   "interpreter": {
    "hash": "31f2aee4e71d21fbe5cf8b01ff0e069b9275f58929596ceb00d14d90e3e16cd6"
   }
  }
 },
 "nbformat": 4,
 "nbformat_minor": 2
}
