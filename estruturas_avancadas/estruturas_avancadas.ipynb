{
 "cells": [
  {
   "cell_type": "code",
   "execution_count": 1,
   "id": "0b2a8bac",
   "metadata": {},
   "outputs": [
    {
     "name": "stdout",
     "output_type": "stream",
     "text": [
      "['Brasil', 'China', 'Canadá']\n"
     ]
    }
   ],
   "source": [
    "#Listas\n",
    "nomes_paises = [\"Brasil\", \"China\", \"Canadá\"]\n",
    "print(nomes_paises)"
   ]
  },
  {
   "cell_type": "code",
   "execution_count": 2,
   "id": "a0d322fe",
   "metadata": {},
   "outputs": [
    {
     "name": "stdout",
     "output_type": "stream",
     "text": [
      "tamanho da lista 3\n"
     ]
    }
   ],
   "source": [
    "print(\"tamanho da lista\", len(nomes_paises))"
   ]
  },
  {
   "cell_type": "code",
   "execution_count": 3,
   "id": "8ef99a9b",
   "metadata": {},
   "outputs": [
    {
     "name": "stdout",
     "output_type": "stream",
     "text": [
      "Brasil\n"
     ]
    }
   ],
   "source": [
    "print(nomes_paises[0])\n",
    "# Acessar de trás para frente\n",
    "print(nomes_paises[-1])"
   ]
  },
  {
   "cell_type": "code",
   "execution_count": 5,
   "id": "4dafed36",
   "metadata": {},
   "outputs": [
    {
     "name": "stdout",
     "output_type": "stream",
     "text": [
      "['Brasil', 'Colombia', 'Canadá']\n"
     ]
    }
   ],
   "source": [
    "nomes_paises[1] = \"Colombia\"\n",
    "print(nomes_paises)"
   ]
  },
  {
   "cell_type": "code",
   "execution_count": 7,
   "id": "0beef8d0",
   "metadata": {},
   "outputs": [
    {
     "name": "stdout",
     "output_type": "stream",
     "text": [
      "['Brasil', 'Colombia']\n"
     ]
    }
   ],
   "source": [
    "# slice: índice final não é incluído na sublista\n",
    "print(nomes_paises[0:2])"
   ]
  },
  {
   "cell_type": "code",
   "execution_count": 10,
   "id": "f70749da",
   "metadata": {},
   "outputs": [
    {
     "name": "stdout",
     "output_type": "stream",
     "text": [
      "['Colombia', 'Canadá']\n",
      "['Brasil', 'Colombia']\n",
      "['Brasil', 'Colombia', 'Canadá']\n"
     ]
    }
   ],
   "source": [
    "print(nomes_paises[1:])\n",
    "print(nomes_paises[:2])\n",
    "print(nomes_paises[:])"
   ]
  },
  {
   "cell_type": "code",
   "execution_count": 15,
   "id": "23bf2d07",
   "metadata": {},
   "outputs": [
    {
     "name": "stdout",
     "output_type": "stream",
     "text": [
      "['Brasil', 'Canadá']\n",
      "['Canadá', 'Colombia', 'Brasil']\n"
     ]
    }
   ],
   "source": [
    "# steps: quantas casas quero pular por índices\n",
    "print(nomes_paises[::2])\n",
    "# inverter a lista\n",
    "print(nomes_paises[::-1])"
   ]
  },
  {
   "cell_type": "code",
   "execution_count": 17,
   "id": "bf9c52f3",
   "metadata": {},
   "outputs": [
    {
     "name": "stdout",
     "output_type": "stream",
     "text": [
      "True\n",
      "True\n"
     ]
    }
   ],
   "source": [
    "#find\n",
    "print(\"Brasil\" in nomes_paises)\n",
    "print(\"Canada\" not in nomes_paises)"
   ]
  },
  {
   "cell_type": "code",
   "execution_count": 21,
   "id": "ea4f6ccf",
   "metadata": {},
   "outputs": [
    {
     "name": "stdout",
     "output_type": "stream",
     "text": [
      "['Brasilia', 'Buenos Aires', 'Pequim']\n",
      "['Brasilia', 'Buenos Aires', 'Paris', 'Pequim']\n",
      "['Brasilia', 'Buenos Aires', 'Paris']\n",
      "Brasilia\n",
      "['Buenos Aires', 'Paris']\n"
     ]
    }
   ],
   "source": [
    "#Inserir dados na lista\n",
    "capitais = []\n",
    "capitais.append(\"Brasilia\")\n",
    "capitais.append(\"Buenos Aires\")\n",
    "capitais.append(\"Pequim\")\n",
    "print(capitais)\n",
    "capitais.insert(2, \"Paris\")\n",
    "print(capitais)\n",
    "capitais.remove(\"Pequim\")\n",
    "print(capitais)\n",
    "removido = capitais.pop(0)\n",
    "print(removido)\n",
    "print(capitais)"
   ]
  },
  {
   "cell_type": "code",
   "execution_count": 22,
   "id": "11131043",
   "metadata": {},
   "outputs": [
    {
     "name": "stdout",
     "output_type": "stream",
     "text": [
      "<class 'tuple'>\n",
      "<class 'tuple'>\n"
     ]
    }
   ],
   "source": [
    "#Tuplas\n",
    "nomes = (\"Maria\", \"José\", \"Sofia\", \"Thales\")\n",
    "print(type(nomes))\n",
    "plantas = \"Antúrio\", \"Jiboia\", \"Filodendro\"\n",
    "print(type(plantas))"
   ]
  },
  {
   "cell_type": "code",
   "execution_count": 23,
   "id": "ff7c0bb5",
   "metadata": {},
   "outputs": [
    {
     "name": "stdout",
     "output_type": "stream",
     "text": [
      "1\n"
     ]
    }
   ],
   "source": [
    "nome_estado = \"São Paulo\",\n",
    "print(len(nome_estado))"
   ]
  },
  {
   "cell_type": "code",
   "execution_count": 24,
   "id": "e19f01b4",
   "metadata": {},
   "outputs": [
    {
     "name": "stdout",
     "output_type": "stream",
     "text": [
      "Antúrio Jiboia Filodendro\n"
     ]
    }
   ],
   "source": [
    "a, j, f = plantas #unpacking\n",
    "# As tuplas possuem tamanho fixo\n",
    "print(a, j, f)"
   ]
  },
  {
   "cell_type": "code",
   "execution_count": 25,
   "id": "891d3800",
   "metadata": {},
   "outputs": [
    {
     "name": "stdout",
     "output_type": "stream",
     "text": [
      "('Antúrio', 'Jiboia', 'Filodendro')\n",
      "Antúrio Jiboia Filodendro\n"
     ]
    }
   ],
   "source": [
    "print(plantas)\n",
    "print(*plantas)"
   ]
  },
  {
   "cell_type": "code",
   "execution_count": null,
   "id": "5b734c33",
   "metadata": {},
   "outputs": [],
   "source": []
  }
 ],
 "metadata": {
  "kernelspec": {
   "display_name": "Python 3.8.10 64-bit",
   "language": "python",
   "name": "python3"
  },
  "language_info": {
   "codemirror_mode": {
    "name": "ipython",
    "version": 3
   },
   "file_extension": ".py",
   "mimetype": "text/x-python",
   "name": "python",
   "nbconvert_exporter": "python",
   "pygments_lexer": "ipython3",
   "version": "3.8.10"
  },
  "vscode": {
   "interpreter": {
    "hash": "916dbcbb3f70747c44a77c7bcd40155683ae19c65e1c03b4aa3499c5328201f1"
   }
  }
 },
 "nbformat": 4,
 "nbformat_minor": 5
}
