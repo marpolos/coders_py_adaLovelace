{
 "cells": [
  {
   "cell_type": "code",
   "execution_count": 1,
   "id": "62aa1f18",
   "metadata": {},
   "outputs": [
    {
     "name": "stdout",
     "output_type": "stream",
     "text": [
      "Ele disse: \"Saia do meu quintal!\"\n"
     ]
    }
   ],
   "source": [
    "#String significa uma corda\n",
    "# A contrabarra faz o caractere perder o valor padrão -> caractere de escape\n",
    "print(\"Ele disse: \\\"Saia do meu quintal!\\\"\")\n"
   ]
  },
  {
   "cell_type": "code",
   "execution_count": 4,
   "id": "1139dd00",
   "metadata": {},
   "outputs": [
    {
     "name": "stdout",
     "output_type": "stream",
     "text": [
      "G\n",
      "Goo\n",
      "Gol\n"
     ]
    }
   ],
   "source": [
    "#As strings se comportam como as tuplas\n",
    "empresa = 'Google'\n",
    "print(empresa[0])\n",
    "print(empresa[0:3])\n",
    "print(empresa[::2])"
   ]
  },
  {
   "cell_type": "code",
   "execution_count": 5,
   "id": "fb4919ea",
   "metadata": {},
   "outputs": [
    {
     "name": "stdout",
     "output_type": "stream",
     "text": [
      "['São Paulo', 'Rio de Janeiro', 'Ceará', 'Amapá']\n"
     ]
    }
   ],
   "source": [
    "#Métodos de string retornam a alteração momentânea, mas não altera a string.\n",
    "cidade = \"São Paulo, Rio de Janeiro, Ceará, Amapá\"\n",
    "cidade = cidade.split(\", \");\n",
    "print(cidade)"
   ]
  },
  {
   "cell_type": "code",
   "execution_count": 6,
   "id": "9464aac7",
   "metadata": {},
   "outputs": [
    {
     "name": "stdout",
     "output_type": "stream",
     "text": [
      "CAAAA\n"
     ]
    }
   ],
   "source": [
    "cabecalho = \"           CAAAA         \"\n",
    "print(cabecalho.strip())"
   ]
  },
  {
   "cell_type": "code",
   "execution_count": 8,
   "id": "1774722b",
   "metadata": {},
   "outputs": [
    {
     "name": "stdout",
     "output_type": "stream",
     "text": [
      "Rio De Janeiro\n",
      "Rio de janeiro\n",
      "rio de janeiro\n",
      "RIO DE JANEIRO\n"
     ]
    }
   ],
   "source": [
    "#Editar texto com métodos: tile, capitalize, lower, upper\n",
    "estado = \"rIo DE Janeiro\"\n",
    "print(estado.title())\n",
    "print(estado.capitalize())\n",
    "print(estado.lower())\n",
    "print(estado.upper())"
   ]
  },
  {
   "cell_type": "code",
   "execution_count": 9,
   "id": "2162b5d8",
   "metadata": {},
   "outputs": [
    {
     "name": "stdout",
     "output_type": "stream",
     "text": [
      "True\n"
     ]
    }
   ],
   "source": [
    "mensagem = \"Monstera deliciosa é uma arácea\"\n",
    "genero = 'arácea' in mensagem\n",
    "print(genero)"
   ]
  },
  {
   "cell_type": "code",
   "execution_count": 10,
   "id": "c1b0278a",
   "metadata": {},
   "outputs": [
    {
     "name": "stdout",
     "output_type": "stream",
     "text": [
      "Olá, Marcelle\n"
     ]
    }
   ],
   "source": [
    "cumprimento = 'Olá, '\n",
    "nome=\"Marcelle\"\n",
    "print(cumprimento + nome)"
   ]
  },
  {
   "cell_type": "code",
   "execution_count": 11,
   "id": "abe5087f",
   "metadata": {},
   "outputs": [
    {
     "name": "stdout",
     "output_type": "stream",
     "text": [
      "MarcelleMarcelleMarcelleMarcelleMarcelle\n"
     ]
    }
   ],
   "source": [
    "print(nome * 5)"
   ]
  },
  {
   "cell_type": "code",
   "execution_count": 14,
   "id": "decd72ee",
   "metadata": {},
   "outputs": [
    {
     "name": "stdout",
     "output_type": "stream",
     "text": [
      "Marcelle tem 18 anos e 2 filhos\n"
     ]
    }
   ],
   "source": [
    "idade = 18\n",
    "filhos = 2\n",
    "print(\"{} tem {} anos e {} filhos\".format(nome, idade, filhos))"
   ]
  },
  {
   "cell_type": "code",
   "execution_count": 15,
   "id": "677c331a",
   "metadata": {},
   "outputs": [
    {
     "name": "stdout",
     "output_type": "stream",
     "text": [
      "O preço da gasolina está 3.79\n"
     ]
    }
   ],
   "source": [
    "preco = 3.7856\n",
    "print(\"O preço da gasolina está {:.2f}\".format(preco))"
   ]
  },
  {
   "cell_type": "code",
   "execution_count": 17,
   "id": "15e21b21",
   "metadata": {},
   "outputs": [
    {
     "name": "stdout",
     "output_type": "stream",
     "text": [
      "Marcelle tem 18 anos e 2 filhos\n"
     ]
    }
   ],
   "source": [
    "print(f'{nome} tem {idade} anos e {filhos} filhos')"
   ]
  },
  {
   "cell_type": "code",
   "execution_count": null,
   "id": "b2a76e09",
   "metadata": {},
   "outputs": [],
   "source": []
  }
 ],
 "metadata": {
  "kernelspec": {
   "display_name": "Python 3 (ipykernel)",
   "language": "python",
   "name": "python3"
  },
  "language_info": {
   "codemirror_mode": {
    "name": "ipython",
    "version": 3
   },
   "file_extension": ".py",
   "mimetype": "text/x-python",
   "name": "python",
   "nbconvert_exporter": "python",
   "pygments_lexer": "ipython3",
   "version": "3.8.10"
  }
 },
 "nbformat": 4,
 "nbformat_minor": 5
}
