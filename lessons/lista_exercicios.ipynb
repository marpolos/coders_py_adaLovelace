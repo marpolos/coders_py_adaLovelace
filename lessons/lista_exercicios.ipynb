{
 "cells": [
  {
   "cell_type": "code",
   "execution_count": 4,
   "id": "fdb6093e",
   "metadata": {},
   "outputs": [
    {
     "name": "stdout",
     "output_type": "stream",
     "text": [
      "Digite um número inteiro maior que zero: 5\n",
      "1\n",
      "2\n",
      "3\n",
      "4\n",
      "5\n"
     ]
    }
   ],
   "source": [
    "# Faça um programa que peça ao usuário um número e imprima todos os números de um \n",
    "# até o número que o usuário informar.\n",
    "number = input(\"Digite um número inteiro maior que zero: \")\n",
    "\n",
    "contador = 1\n",
    "while (contador <= int(number)):\n",
    "    print(contador)\n",
    "    contador += 1"
   ]
  },
  {
   "cell_type": "code",
   "execution_count": 15,
   "id": "a2fccfa9",
   "metadata": {},
   "outputs": [
    {
     "name": "stdout",
     "output_type": "stream",
     "text": [
      "Digite um valor numérico qualquer: 75\n",
      "(50,75]\n"
     ]
    }
   ],
   "source": [
    "# Crie um programa que leia um valor qualquer e apresente uma mensagem dizendo em qual\n",
    "# dos seguintes intervalos ([0,25], (25,50], (50,75], (75,100]) este valor se encontra. \n",
    "# Caso o valor não esteja em nenhum destes intervalos, deverá ser impressa a mensagem \n",
    "# “Fora de intervalo”.\n",
    "# ( não contido), [contido]\n",
    "\n",
    "value = input(\"Digite um valor numérico qualquer: \")\n",
    "newV = float(value)\n",
    "\n",
    "if newV >= 0 and newV <= 25:\n",
    "    print(\"[0, 25)\")\n",
    "elif newV > 25 and newV <= 50:\n",
    "    print(\"(25,50]\")\n",
    "elif newV > 50 and newV <= 75:\n",
    "    print(\"(50,75]\")\n",
    "elif newV > 75 and newV <= 100:\n",
    "    print(\"(75,100]\")\n",
    "\n",
    "else:\n",
    "    print(\"Fora do intervalo\")"
   ]
  },
  {
   "cell_type": "code",
   "execution_count": 20,
   "id": "4ebe685e",
   "metadata": {},
   "outputs": [
    {
     "name": "stdout",
     "output_type": "stream",
     "text": [
      "Digite o raio do círculo: 4\n",
      "O raio é 4\n",
      "16\n",
      "A área é  50.27\n"
     ]
    }
   ],
   "source": [
    "# Crie uma função que recebe o valor do raio de um círculo como parâmetro e retorna o\n",
    "# valor da área desse círculo. Lembrando que a área de círculo é dada pela equação: \n",
    "# A = π r^2.\n",
    "import math\n",
    "\n",
    "raio = int(input(\"Digite o raio do círculo: \"))\n",
    "print(\"O raio é\", raio)\n",
    "\n",
    "area = math.pi * (raio ** 2)\n",
    "print(\"raio ao quadrado\", raio ** 2)\n",
    "print(\"A área é \", round(area, 2))"
   ]
  },
  {
   "cell_type": "code",
   "execution_count": 21,
   "id": "7960b9d2",
   "metadata": {},
   "outputs": [
    {
     "name": "stdout",
     "output_type": "stream",
     "text": [
      "digite um número inteiro2\n",
      "digite outro número inteiro3\n",
      "digite um número real5.6\n",
      "o produto entre o dobro do primeiro e a metade do segundo. 6.0\n",
      "a soma entre o triplo do primeiro e o terceiro. 11.6\n",
      "o terceiro elevado ao cubo. 175.61599999999996\n"
     ]
    }
   ],
   "source": [
    "#Faça um programa que peça 2 números inteiros e um número real, calcule e mostre:\n",
    "#a) o produto entre o dobro do primeiro e a metade do segundo.\n",
    "#b) a soma entre o triplo do primeiro e o terceiro.\n",
    "#c) o terceiro elevado ao cubo.\n",
    "\n",
    "int1 = int(input(\"digite um número inteiro\"))\n",
    "int2 = int(input(\"digite outro número inteiro\"))\n",
    "real = float(input(\"digite um número real\"))\n",
    "\n",
    "a = int1 * 2 * (int2 / 2)\n",
    "b = (int1 * 3) + real\n",
    "c = real ** 3\n",
    "\n",
    "print(\"o produto entre o dobro do primeiro e a metade do segundo.\", a)\n",
    "print(\"a soma entre o triplo do primeiro e o terceiro.\", b)\n",
    "print(\"o terceiro elevado ao cubo.\", c)"
   ]
  },
  {
   "cell_type": "code",
   "execution_count": null,
   "id": "546a5452",
   "metadata": {},
   "outputs": [],
   "source": []
  }
 ],
 "metadata": {
  "kernelspec": {
   "display_name": "Python 3 (ipykernel)",
   "language": "python",
   "name": "python3"
  },
  "language_info": {
   "codemirror_mode": {
    "name": "ipython",
    "version": 3
   },
   "file_extension": ".py",
   "mimetype": "text/x-python",
   "name": "python",
   "nbconvert_exporter": "python",
   "pygments_lexer": "ipython3",
   "version": "3.8.10"
  }
 },
 "nbformat": 4,
 "nbformat_minor": 5
}
