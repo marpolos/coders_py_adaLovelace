{
 "cells": [
  {
   "cell_type": "code",
   "execution_count": 4,
   "id": "fdb6093e",
   "metadata": {},
   "outputs": [
    {
     "name": "stdout",
     "output_type": "stream",
     "text": [
      "Digite um número inteiro maior que zero: 5\n",
      "1\n",
      "2\n",
      "3\n",
      "4\n",
      "5\n"
     ]
    }
   ],
   "source": [
    "# Faça um programa que peça ao usuário um número e imprima todos os números de um \n",
    "# até o número que o usuário informar.\n",
    "number = input(\"Digite um número inteiro maior que zero: \")\n",
    "\n",
    "contador = 1\n",
    "while (contador <= int(number)):\n",
    "    print(contador)\n",
    "    contador += 1"
   ]
  },
  {
   "cell_type": "code",
   "execution_count": 15,
   "id": "a2fccfa9",
   "metadata": {},
   "outputs": [
    {
     "name": "stdout",
     "output_type": "stream",
     "text": [
      "Digite um valor numérico qualquer: 75\n",
      "(50,75]\n"
     ]
    }
   ],
   "source": [
    "# Crie um programa que leia um valor qualquer e apresente uma mensagem dizendo em qual\n",
    "# dos seguintes intervalos ([0,25], (25,50], (50,75], (75,100]) este valor se encontra. \n",
    "# Caso o valor não esteja em nenhum destes intervalos, deverá ser impressa a mensagem \n",
    "# “Fora de intervalo”.\n",
    "# ( não contido), [contido]\n",
    "\n",
    "value = input(\"Digite um valor numérico qualquer: \")\n",
    "newV = float(value)\n",
    "\n",
    "if newV >= 0 and newV <= 25:\n",
    "    print(\"[0, 25)\")\n",
    "elif newV > 25 and newV <= 50:\n",
    "    print(\"(25,50]\")\n",
    "elif newV > 50 and newV <= 75:\n",
    "    print(\"(50,75]\")\n",
    "elif newV > 75 and newV <= 100:\n",
    "    print(\"(75,100]\")\n",
    "\n",
    "else:\n",
    "    print(\"Fora do intervalo\")"
   ]
  },
  {
   "cell_type": "code",
   "execution_count": 20,
   "id": "4ebe685e",
   "metadata": {},
   "outputs": [
    {
     "name": "stdout",
     "output_type": "stream",
     "text": [
      "Digite o raio do círculo: 4\n",
      "O raio é 4\n",
      "16\n",
      "A área é  50.27\n"
     ]
    }
   ],
   "source": [
    "# Crie uma função que recebe o valor do raio de um círculo como parâmetro e retorna o\n",
    "# valor da área desse círculo. Lembrando que a área de círculo é dada pela equação: \n",
    "# A = π r^2.\n",
    "import math\n",
    "\n",
    "raio = int(input(\"Digite o raio do círculo: \"))\n",
    "print(\"O raio é\", raio)\n",
    "\n",
    "area = math.pi * (raio ** 2)\n",
    "print(\"raio ao quadrado\", raio ** 2)\n",
    "print(\"A área é \", round(area, 2))"
   ]
  },
  {
   "cell_type": "code",
   "execution_count": 21,
   "id": "7960b9d2",
   "metadata": {},
   "outputs": [
    {
     "name": "stdout",
     "output_type": "stream",
     "text": [
      "digite um número inteiro2\n",
      "digite outro número inteiro3\n",
      "digite um número real5.6\n",
      "o produto entre o dobro do primeiro e a metade do segundo. 6.0\n",
      "a soma entre o triplo do primeiro e o terceiro. 11.6\n",
      "o terceiro elevado ao cubo. 175.61599999999996\n"
     ]
    }
   ],
   "source": [
    "#Faça um programa que peça 2 números inteiros e um número real, calcule e mostre:\n",
    "#a) o produto entre o dobro do primeiro e a metade do segundo.\n",
    "#b) a soma entre o triplo do primeiro e o terceiro.\n",
    "#c) o terceiro elevado ao cubo.\n",
    "\n",
    "int1 = int(input(\"digite um número inteiro\"))\n",
    "int2 = int(input(\"digite outro número inteiro\"))\n",
    "real = float(input(\"digite um número real\"))\n",
    "\n",
    "a = int1 * 2 * (int2 / 2)\n",
    "b = (int1 * 3) + real\n",
    "c = real ** 3\n",
    "\n",
    "print(\"o produto entre o dobro do primeiro e a metade do segundo.\", a)\n",
    "print(\"a soma entre o triplo do primeiro e o terceiro.\", b)\n",
    "print(\"o terceiro elevado ao cubo.\", c)"
   ]
  },
  {
   "cell_type": "code",
   "execution_count": 14,
   "id": "546a5452",
   "metadata": {},
   "outputs": [
    {
     "name": "stdout",
     "output_type": "stream",
     "text": [
      "Suspeito 1\n",
      "Suspeito 2\n",
      "Relatório: \n",
      "Assassino: \n",
      "1, Cúmplice: {}\n",
      "Suspeitos: {2: 4}\n"
     ]
    }
   ],
   "source": [
    "# Vamos fazer um programa para verificar quem é o assassino de um crime. \n",
    "# Para descobrir o assassino, a polícia faz um pequeno questionário com \n",
    "# 5 perguntas onde a resposta só pode ser sim ou não:\n",
    "# Cada resposta sim dá um ponto para o suspeito. \n",
    "# A polícia considera que os suspeitos com 5 pontos são os assassinos,\n",
    "# com 4 a 3 pontos são cúmplices e 2 pontos são apenas suspeitos,\n",
    "# necessitando de outras investigações. Valores abaixo de 2 são liberados\n",
    "\n",
    "entrevistados = int(input(\"Quantas pessoas serão entrevistadas?\"))\n",
    "\n",
    "assassino = dict()\n",
    "cumplice = dict()\n",
    "suspeito = dict()\n",
    "\n",
    "for i in range(1, entrevistados + 1):\n",
    "    pontos = 0\n",
    "    \"\"\" faz as perguntas \"\"\"\n",
    "    print(f\"Suspeito {i}\")\n",
    "    resposta = input(\"Mora perto da vítima?\")\n",
    "    if (resposta == 's'):\n",
    "        pontos += 1\n",
    "    resposta = input(\"Já trabalhou com a vítima?\")\n",
    "    if (resposta == 's'):\n",
    "        pontos += 1\n",
    "    resposta = input(\"Telefonou para a vítima?\")\n",
    "    if (resposta == 's'):\n",
    "        pontos += 1\n",
    "    resposta = input(\"Esteve no local do crime?\")\n",
    "    if (resposta == 's'):\n",
    "        pontos += 1\n",
    "    resposta = input(\"Devia para a vítima?\")\n",
    "    if (resposta == 's'):\n",
    "        pontos += 1\n",
    "\n",
    "    \"\"\" organiza os suspeitos \"\"\"\n",
    "    if (pontos == 5):\n",
    "        assassino.update({ i: pontos })\n",
    "    elif (4 > pontos > 3):\n",
    "        cumplice.update({ i: pontos })\n",
    "    else:\n",
    "        suspeito.update({ i: pontos })\n",
    "\n",
    "print(f\"Relatório: \")\n",
    "print(f\"Assassino: {assassino}\")\n",
    "# em dict eu não consigo acessar por posição, apenas pelo nome das keys.\n",
    "# Aqui teria sido melhor fazer outra estrutura, como o set()\n",
    "print(f\"Cúmplice: {cumplice}\")\n",
    "print(f\"Suspeitos: {suspeito}\")"
   ]
  },
  {
   "cell_type": "code",
   "execution_count": 17,
   "id": "f22a9387",
   "metadata": {},
   "outputs": [
    {
     "name": "stdout",
     "output_type": "stream",
     "text": [
      "['5', '8', '7', 'h']\n",
      "Encontrei uma letra\n",
      "A soma desses números é 20.0\n"
     ]
    }
   ],
   "source": [
    "# Faça uma função que recebe uma lista de números e retorna a soma dos elementos dessa lista.\n",
    "list = input(\"digite uma lista de números separados por espaço\").split(\" \")\n",
    "print(list)\n",
    "\n",
    "sum = 0\n",
    "for num in list:\n",
    "    if (num.isdigit()):\n",
    "        sum += float(num)\n",
    "    else:\n",
    "        print(\"Encontrei uma letra\")\n",
    "        break\n",
    "\n",
    "print(f\"A soma desses números é {sum}\")"
   ]
  },
  {
   "cell_type": "code",
   "execution_count": 18,
   "id": "6ac2343e",
   "metadata": {},
   "outputs": [
    {
     "name": "stdout",
     "output_type": "stream",
     "text": [
      "Distância euclidiana: 45.0\n"
     ]
    }
   ],
   "source": [
    "# Faça um programa que leia as coordenadas de 2 (dois) pontos em um plano \n",
    "# cartesiano 2D: a coordenada x do primeiro ponto (x_1), a coordenada y \n",
    "# do primeiro ponto (y_1), a coordenada x do segundo ponto (x_2) e a \n",
    "# coordenada y do segundo ponto (y_2). Em seguida, calcule a distância\n",
    "# euclidiana entre os pontos, utilizando a equação abaixo:\n",
    "import math\n",
    "\n",
    "c1 = input(\"Coordenada x1, y1\").split(\", \")\n",
    "c2 = input(\"Coordenada x2, y2\").split(\", \")\n",
    "\n",
    "x_1 = float(c1[0])\n",
    "y_1 = float(c1[1])\n",
    "\n",
    "x_2 = float(c2[0])\n",
    "y_2 = float(c2[1])\n",
    "\n",
    "d_euclidiana = math.pow((x_2 - x_1), 2) + math.pow((y_2 - y_1), 2)\n",
    "\n",
    "print(f\"Distância euclidiana: {d_euclidiana}\")\n",
    "\n",
    "\n"
   ]
  },
  {
   "cell_type": "code",
   "execution_count": 30,
   "id": "32a27522",
   "metadata": {},
   "outputs": [
    {
     "name": "stdout",
     "output_type": "stream",
     "text": [
      "A soma dos 1000 termos fatoriais é 2.7182818284590455\n"
     ]
    }
   ],
   "source": [
    "#Q8\n",
    "# Calcule a soma de mil termos dos inversos dos fatoriais: \n",
    "# 1/(1!) + 1/(2!) + 1/(3!) + 1/(4!) + ...\n",
    "# Dica: Use três variáveis: um contador; uma variável para soma; \n",
    "# e uma variável para os termos.\n",
    "# Lembre-se de que 4! = 4 * *3 ** 2 * *1, que também é igual a 4 ** 3!.\n",
    "soma = 0\n",
    "\n",
    "\"\"\" cria uma lista de até onde quero somar, no caso até 1000 somas \"\"\"\n",
    "for i in range(1, 1001):\n",
    "    \"\"\" agora eu faço o fatorial de cada número até o 1000 \"\"\"\n",
    "    fatorial = 1\n",
    "\n",
    "    for cont in range(1, i):\n",
    "        fatorial *= cont\n",
    "\n",
    "    \"\"\"agora crio o termo para a soma\"\"\"\n",
    "    terms = 1 / (fatorial)\n",
    "    soma += terms\n",
    "\n",
    "print(f\"A soma dos 1000 termos fatoriais é {soma}\")"
   ]
  },
  {
   "cell_type": "code",
   "execution_count": 31,
   "id": "3ca0951f",
   "metadata": {},
   "outputs": [
    {
     "name": "stdout",
     "output_type": "stream",
     "text": [
      "[1, 2, 3, 4]\n"
     ]
    }
   ],
   "source": [
    "# Crie (manualmente ou sorteando os números) uma lista de 10 números e imprima:\n",
    "list = range(1, 11)\n",
    "\n",
    "# uma lista com os 4 primeiros números;\n",
    "first_4 = [n for n in list if n < 5]\n",
    "print(first_4)\n",
    "# uma lista com os 5 últimos números;\n",
    "for n in list:\n",
    "    \n",
    "# uma lista contendo apenas os elementos das posições pares;\n",
    "# uma lista contendo apenas os elementos das posições ímpares;\n",
    "# a lista inversa da lista sorteada (isto é, uma lista que começa com o \n",
    "# último elemento dalista sorteada e termina com o primeiro);\n",
    "# uma lista inversa dos 5 primeiros números;\n",
    "# uma lista inversa dos 5 últimos números."
   ]
  }
 ],
 "metadata": {
  "kernelspec": {
   "display_name": "Python 3.8.10 64-bit",
   "language": "python",
   "name": "python3"
  },
  "language_info": {
   "codemirror_mode": {
    "name": "ipython",
    "version": 3
   },
   "file_extension": ".py",
   "mimetype": "text/x-python",
   "name": "python",
   "nbconvert_exporter": "python",
   "pygments_lexer": "ipython3",
   "version": "3.8.10"
  },
  "vscode": {
   "interpreter": {
    "hash": "916dbcbb3f70747c44a77c7bcd40155683ae19c65e1c03b4aa3499c5328201f1"
   }
  }
 },
 "nbformat": 4,
 "nbformat_minor": 5
}
