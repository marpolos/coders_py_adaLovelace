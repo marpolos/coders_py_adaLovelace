{
 "cells": [
  {
   "cell_type": "markdown",
   "id": "b22cd74d",
   "metadata": {},
   "source": [
    "# Alguns recados\n",
    "- Horários (início e intervalo)\n",
    "- Presença\n",
    "- Câmera\n",
    "- Vagas\n",
    "- Cronograma de aulas"
   ]
  },
  {
   "cell_type": "markdown",
   "id": "46cc1557",
   "metadata": {},
   "source": [
    "## Tópicos da aula\n",
    "\n",
    " - IDE\n",
    " - Variáveis\n",
    " - Tipos básicos\n",
    " - Entradas/Saídas\n",
    " - Operadores Algébricos\n",
    " - Operadores de comparação"
   ]
  },
  {
   "cell_type": "markdown",
   "id": "663722fc",
   "metadata": {},
   "source": [
    "# IDE\n",
    "\n",
    "- Visual Studio Code - Extensão Jupyter\n",
    "- Colab google - https://colab.research.google.com/\n",
    "- Deep note - https://deepnote.com/\n",
    "- JupyterLite - https://jupyter.org/try\n",
    "- Kaggle Kernels - https://www.kaggle.com/\n",
    "\n",
    "- Diversas opções:\n",
    "  - https://cocalc.com/features/jupyter-notebook\n",
    "  - https://www.codingrooms.com/compiler/jupyter-notebook\n",
    "  - https://mybinder.org/"
   ]
  },
  {
   "cell_type": "markdown",
   "id": "73c6063a",
   "metadata": {},
   "source": [
    "## Variáveis\n",
    "Variável é o nome dado ao tipo de conteúdo que pode apresentar diferentes valores enquanto o sistema está em execução. Tudo dependerá do comando do usuário e o tipo de operação que é realizado.  \n",
    "Imagine que você conheça uma nova pessoa. A variável seria o lugar no seu cérebro no qual você guarda, por exemplo, o nome desta pessoa, ou seja, é alocado um espaço para armazenar esta informação e posteriormente é passado o valor referente aquele dado.\n",
    "\n",
    "```\n",
    "nome = \"Bruno\"\n",
    "```"
   ]
  },
  {
   "cell_type": "markdown",
   "id": "41b0fe06",
   "metadata": {},
   "source": [
    "## Tipos básicos\n",
    "\n",
    "Podemos ter informações relacionadas às outras pessoas como nome, idade e salário. Cada uma delas possui o que chamamos de tipos de variável. Os tipos de dados são os seguintes:"
   ]
  },
  {
   "cell_type": "code",
   "execution_count": 3,
   "id": "87037bf8",
   "metadata": {},
   "outputs": [
    {
     "data": {
      "text/plain": [
       "str"
      ]
     },
     "execution_count": 3,
     "metadata": {},
     "output_type": "execute_result"
    }
   ],
   "source": [
    "# Esta é uma forma de comentar o código. Toda esta informação não será processada\n",
    "# Podemos passar variáveis de texto (str) com aspas duplas\n",
    "nome = \"Bruno\"\n",
    "type(nome)"
   ]
  },
  {
   "cell_type": "code",
   "execution_count": null,
   "id": "74c191c8",
   "metadata": {},
   "outputs": [],
   "source": [
    "# Ou aspas simples\n",
    "nome = 'Bruno'\n",
    "type(nome)"
   ]
  },
  {
   "cell_type": "code",
   "execution_count": null,
   "id": "175ac6dc",
   "metadata": {},
   "outputs": [],
   "source": [
    "idade = 29\n",
    "type(idade)"
   ]
  },
  {
   "cell_type": "code",
   "execution_count": 1,
   "id": "ca5d746d",
   "metadata": {},
   "outputs": [
    {
     "data": {
      "text/plain": [
       "float"
      ]
     },
     "execution_count": 1,
     "metadata": {},
     "output_type": "execute_result"
    }
   ],
   "source": [
    "salario = 1000.00\n",
    "type(salario)"
   ]
  },
  {
   "cell_type": "code",
   "execution_count": 2,
   "id": "f2d8d93c",
   "metadata": {},
   "outputs": [
    {
     "data": {
      "text/plain": [
       "bool"
      ]
     },
     "execution_count": 2,
     "metadata": {},
     "output_type": "execute_result"
    }
   ],
   "source": [
    "certificado = True\n",
    "type(certificado)"
   ]
  },
  {
   "cell_type": "markdown",
   "id": "a1fcbea2",
   "metadata": {},
   "source": [
    "## Entradas\n",
    "\n",
    "Para solicitarmos entradas de informações a serem fornecidas pelo usuário podemos utilizar a função input. Com ela você poderá (opcional) passar uma mensagem instrutiva ao usuário do que deseja que ele insira.  \n",
    "No exemplo abaixo utilizaremos o input."
   ]
  },
  {
   "cell_type": "code",
   "execution_count": null,
   "id": "41987074",
   "metadata": {},
   "outputs": [],
   "source": [
    "input()"
   ]
  },
  {
   "cell_type": "markdown",
   "id": "faa5f5b2",
   "metadata": {},
   "source": [
    "**Intuição**  \n",
    "Veja que ele funciona, porém sem uma mensagem de qual informação é solicitada não é possível identificar o que se deve passar ao programa."
   ]
  },
  {
   "cell_type": "code",
   "execution_count": null,
   "id": "9423131e",
   "metadata": {},
   "outputs": [],
   "source": [
    "input('Insira sua idade: ')"
   ]
  },
  {
   "cell_type": "markdown",
   "id": "73e528e4",
   "metadata": {},
   "source": [
    "**Variável**  \n",
    "Podemos guardar o valor passado pelo usuário numa variável"
   ]
  },
  {
   "cell_type": "code",
   "execution_count": null,
   "id": "975aa083",
   "metadata": {},
   "outputs": [],
   "source": [
    "idade = input('Insira sua idade: ')"
   ]
  },
  {
   "cell_type": "markdown",
   "id": "6ae7fe31",
   "metadata": {},
   "source": [
    "Repare nas aspas que saem quando utilizamos apenas a função input. Isso quer dizer que este valor capturado pelo programa é uma string, independente do que o usuário insira."
   ]
  },
  {
   "cell_type": "code",
   "execution_count": null,
   "id": "d973a5b6",
   "metadata": {},
   "outputs": [],
   "source": [
    "type(idade)"
   ]
  },
  {
   "cell_type": "markdown",
   "id": "c81d5ec5",
   "metadata": {},
   "source": [
    "**Convertendo o tipo de dado**  \n",
    "Neste caso é interessante que a idade seja um número, visto que em geral o utilizamos para realizar contas, por exemplo. Para converter este valor para um inteiro, podemos fazer da seguinte forma:"
   ]
  },
  {
   "cell_type": "code",
   "execution_count": null,
   "id": "47c2e23a",
   "metadata": {},
   "outputs": [],
   "source": [
    "int(idade)"
   ]
  },
  {
   "cell_type": "markdown",
   "id": "c40cfc87",
   "metadata": {},
   "source": [
    "E para simplificar ainda mais é comum que já realizemos a conversão da variável logo na chamada do input."
   ]
  },
  {
   "cell_type": "code",
   "execution_count": null,
   "id": "b1053ecd",
   "metadata": {},
   "outputs": [],
   "source": [
    "idade = int(input('Insira sua idade: '))\n",
    "# Para valores do tipo ponto flutuante, ou seja, numéricos com valores decimais, utilizamos o float"
   ]
  },
  {
   "cell_type": "code",
   "execution_count": null,
   "id": "238fc792",
   "metadata": {},
   "outputs": [],
   "source": [
    "type(idade)"
   ]
  },
  {
   "cell_type": "markdown",
   "id": "90d69dd0",
   "metadata": {},
   "source": [
    "## Saídas\n",
    "\n",
    "Em diversas situações desejamos imprimir na tela o resultado de alguma operação que realizamos ou simplesmente emitirmos uma mensagem, para estas situações utilizamos o print."
   ]
  },
  {
   "cell_type": "code",
   "execution_count": null,
   "id": "ef8a8269",
   "metadata": {},
   "outputs": [],
   "source": [
    "print('Você pode utilizar o print para imprimir na tela o que você quiser')"
   ]
  },
  {
   "cell_type": "code",
   "execution_count": null,
   "id": "59b255f4",
   "metadata": {},
   "outputs": [],
   "source": [
    "print(\"Aspas duplas também funcionam\")"
   ]
  },
  {
   "cell_type": "code",
   "execution_count": 5,
   "id": "1e68d16b",
   "metadata": {},
   "outputs": [
    {
     "name": "stdout",
     "output_type": "stream",
     "text": [
      "Podemos pular linha \n",
      "com este símbolo\n"
     ]
    }
   ],
   "source": [
    "print('Podemos pular linha \\ncom este símbolo')"
   ]
  },
  {
   "cell_type": "code",
   "execution_count": 4,
   "id": "52eef66b",
   "metadata": {},
   "outputs": [
    {
     "name": "stdout",
     "output_type": "stream",
     "text": [
      "\tÉ possível utilizar a tabulação também\n"
     ]
    }
   ],
   "source": [
    "print('\\tÉ possível utilizar a tabulação também')"
   ]
  },
  {
   "cell_type": "code",
   "execution_count": null,
   "id": "a4504d5b",
   "metadata": {},
   "outputs": [],
   "source": [
    "print('Também podemos')\n",
    "print('usar o print')\n",
    "print('várias vezes na mesma célula')"
   ]
  },
  {
   "cell_type": "markdown",
   "id": "f30ee2c6",
   "metadata": {},
   "source": [
    "**Mais de um argumento**  \n",
    "Para imprimir mais de uma informação, o print permite inserir quantos argumentos forem necessários, desde que separados por vírgula. Veja o exemplo:"
   ]
  },
  {
   "cell_type": "code",
   "execution_count": null,
   "id": "bf04867b",
   "metadata": {},
   "outputs": [],
   "source": [
    "print('Olá', 'eu sou Bruno', 'muito prazer')"
   ]
  },
  {
   "cell_type": "markdown",
   "id": "1881c3d6",
   "metadata": {},
   "source": [
    "**Print de variáveis**  \n",
    "Também é possível imprimir variáveis de forma simples, basta passar o nome dado para a variável dentro dos parênteses."
   ]
  },
  {
   "cell_type": "code",
   "execution_count": null,
   "id": "7b75f589",
   "metadata": {},
   "outputs": [],
   "source": [
    "print(idade)"
   ]
  },
  {
   "cell_type": "markdown",
   "id": "d39ad7cc",
   "metadata": {},
   "source": [
    "E se for necessário imprimir a mensagem 'Olá, eu sou Bruno Issamo\", de forma que o nome e o sobrenome sejam provenientes de variáveis nome e sobrenome."
   ]
  },
  {
   "cell_type": "code",
   "execution_count": null,
   "id": "71c90ef6",
   "metadata": {},
   "outputs": [],
   "source": [
    "nome = 'Bruno'\n",
    "sobrenome = 'Issamo'"
   ]
  },
  {
   "cell_type": "markdown",
   "id": "b6b3c143",
   "metadata": {},
   "source": [
    "**Print com f string**  \n",
    "Outra forma de utilizarmos o print com variáveis é por meio do que chamamos de f string."
   ]
  },
  {
   "cell_type": "code",
   "execution_count": null,
   "id": "376ddf37",
   "metadata": {},
   "outputs": [],
   "source": [
    "print(f'Eu tenho {idade} anos')"
   ]
  },
  {
   "cell_type": "markdown",
   "id": "f51d5964",
   "metadata": {},
   "source": [
    "**Bora praticar!**  \n",
    "Escreva um programa que receba seu nome, sua idade e hobby e escreva uma única sentença que seja, por exemplo, \"Meu nome é Bruno, tenho 29 anos e meu hobby é praticar esportes\" "
   ]
  },
  {
   "cell_type": "code",
   "execution_count": 6,
   "id": "3a85f961",
   "metadata": {},
   "outputs": [],
   "source": [
    "nome = input(\"Digite seu nome: \")\n",
    "idade = input(\"Digite sua idade: \")\n",
    "hobby = input(\"Digite seu hobby favorito: \")\n",
    "print(f'Seu nome é {nome}, tem {idade} anos e seu hobbie favorito {hobby}')"
   ]
  },
  {
   "cell_type": "markdown",
   "id": "0468efe1",
   "metadata": {},
   "source": [
    "## Operadores Algébricos\n",
    "\n",
    "Rotineiramente nos deparamos com a necessidade de realizarmos cálculos, para isso podemos utilizar os operadores algébricos como conhecemos na matemática tradicional."
   ]
  },
  {
   "cell_type": "markdown",
   "id": "fb401a8b",
   "metadata": {},
   "source": [
    "**Soma de dois valores**"
   ]
  },
  {
   "cell_type": "code",
   "execution_count": null,
   "id": "f99c680d",
   "metadata": {},
   "outputs": [],
   "source": [
    "print(2 + 2)"
   ]
  },
  {
   "cell_type": "code",
   "execution_count": null,
   "id": "eb3c61d1",
   "metadata": {},
   "outputs": [],
   "source": [
    "print(8 - 5)"
   ]
  },
  {
   "cell_type": "markdown",
   "id": "c69dcb20",
   "metadata": {},
   "source": [
    "Resumindo:"
   ]
  },
  {
   "cell_type": "markdown",
   "id": "cf6d43b8",
   "metadata": {},
   "source": [
    "| Símbolo | Operação        |\n",
    "|---------|-----------------|\n",
    "|    +    | soma            |\n",
    "|    -    | subtração       |\n",
    "|    *    | multiplicação   |\n",
    "|    /    | divisão         |\n",
    "|    //   | divisão inteira |\n",
    "|    %    | resto           |\n",
    "|    **   | potência        |"
   ]
  },
  {
   "cell_type": "markdown",
   "id": "be41659d",
   "metadata": {},
   "source": [
    "**Utilizando variáveis**"
   ]
  },
  {
   "cell_type": "code",
   "execution_count": null,
   "id": "26f0830f",
   "metadata": {},
   "outputs": [],
   "source": [
    "valor_01 = 10\n",
    "valor_02 = 15\n",
    "\n",
    "print(valor_01 + valor_02)"
   ]
  },
  {
   "cell_type": "markdown",
   "id": "b40ef83a",
   "metadata": {},
   "source": [
    "**Bora praticar!**  \n",
    "Com tudo que vimos até o momento faça um programa que solicite ao usuário que insira seu ano de nascimento. Desconsiderando o mês do ano de nascimento, emita uma mensagem dizendo quantos anos ele possui."
   ]
  },
  {
   "cell_type": "code",
   "execution_count": 14,
   "id": "ea4f2c7d",
   "metadata": {},
   "outputs": [
    {
     "name": "stdout",
     "output_type": "stream",
     "text": [
      "2022\n",
      "Sua idade é 27\n"
     ]
    }
   ],
   "source": [
    "import datetime as dt\n",
    "\n",
    "current_date = dt.datetime.now().date().strftime('%Y')\n",
    "print(current_date)\n",
    "ano_nascimento = input(\"Insira seu ano de nascimento: \")\n",
    "idade = int(current_date) - int(ano_nascimento)\n",
    "print(f\"Sua idade é {idade}\")"
   ]
  },
  {
   "cell_type": "markdown",
   "id": "c0bfad1f",
   "metadata": {},
   "source": [
    "## Operadores de Comparação  \n",
    "Os operadores de comparação são aqueles que possuem o objetivo de analisar os valores de uma expressão e retornar um valor booleano, ou seja, verdadeiro (1) ou falso (0)."
   ]
  },
  {
   "cell_type": "code",
   "execution_count": null,
   "id": "ec142f45",
   "metadata": {},
   "outputs": [],
   "source": [
    "print(3 > 2)"
   ]
  },
  {
   "cell_type": "code",
   "execution_count": null,
   "id": "10769d48",
   "metadata": {},
   "outputs": [],
   "source": [
    "print(2 > 3)"
   ]
  },
  {
   "cell_type": "code",
   "execution_count": null,
   "id": "5ff742e5",
   "metadata": {},
   "outputs": [],
   "source": [
    "print(2 == 3)"
   ]
  },
  {
   "cell_type": "code",
   "execution_count": null,
   "id": "52c4dac5",
   "metadata": {},
   "outputs": [],
   "source": [
    "print(2 == 2)"
   ]
  },
  {
   "cell_type": "markdown",
   "id": "be2ff254",
   "metadata": {},
   "source": [
    "**Bora praticar!**  \n",
    "Imagine que você está implementando um sistema para verificar se os alunos de uma turma estudantil passaram na disciplina ou não. Para isso solicite que o usuário insira as notas das 4 provas realizadas por um estudante e calcule a média. Após isso, emita uma resposta booleana (True ou False) se o estudante passou na disciplina pensando que a média mínima para aprovação é que seja pelo menos 5."
   ]
  },
  {
   "cell_type": "code",
   "execution_count": 6,
   "id": "8794ca21",
   "metadata": {
    "scrolled": true
   },
   "outputs": [
    {
     "name": "stdout",
     "output_type": "stream",
     "text": [
      "A pessoa foi aprovada: True, pois a média é 5.0\n"
     ]
    }
   ],
   "source": [
    "notas = input(\"Digite as notas separadas por vírgula\")\n",
    "notas_array = notas.split(\",\")\n",
    "soma = 0\n",
    "for note in notas_array:\n",
    "    soma += int(note)\n",
    "\n",
    "media = soma / len(notas_array)\n",
    "\n",
    "print(f\"A pessoa foi aprovada: {media >= 5}, pois a média é {media}\")"
   ]
  },
  {
   "cell_type": "markdown",
   "id": "65eb1662",
   "metadata": {},
   "source": [
    "Crie um algoritmo que calcule o IMC (índice de massa corporal). O IMC é calculado com a formula PESO/(ALTURA ^ 2). Para isso, coloque as informações nas variáveis e ao final apresente o resultado como no exemplo: \"O IMC é 18\""
   ]
  },
  {
   "cell_type": "code",
   "execution_count": 1,
   "id": "41c89790",
   "metadata": {},
   "outputs": [],
   "source": [
    "peso = input(\"Insira seu peso: \")\n",
    "altura = input(\"Insira sua altura: \")\n",
    "\n",
    "imc = int(peso) / float(altura)**2\n",
    "print(f\"O imc é {round(imc, 2)}\")"
   ]
  },
  {
   "cell_type": "markdown",
   "id": "3508edd6",
   "metadata": {},
   "source": [
    "Escreva um algoritmo que calcule (x + y) * (x + y). Os valores de x e y devem ser inseridos pelo usuario"
   ]
  },
  {
   "cell_type": "code",
   "execution_count": 3,
   "id": "6de3eaf0",
   "metadata": {},
   "outputs": [
    {
     "name": "stdout",
     "output_type": "stream",
     "text": [
      "10 100\n"
     ]
    }
   ],
   "source": [
    "x = input(\"Insira x: \")\n",
    "y = input(\"Insira y: \")\n",
    "calculo = int(x) + int(y)\n",
    "calc = calculo **2\n",
    "print(calculo, calc)"
   ]
  }
 ],
 "metadata": {
  "kernelspec": {
   "display_name": "Python 3.8.10 64-bit",
   "language": "python",
   "name": "python3"
  },
  "language_info": {
   "codemirror_mode": {
    "name": "ipython",
    "version": 3
   },
   "file_extension": ".py",
   "mimetype": "text/x-python",
   "name": "python",
   "nbconvert_exporter": "python",
   "pygments_lexer": "ipython3",
   "version": "3.8.10"
  },
  "vscode": {
   "interpreter": {
    "hash": "31f2aee4e71d21fbe5cf8b01ff0e069b9275f58929596ceb00d14d90e3e16cd6"
   }
  }
 },
 "nbformat": 4,
 "nbformat_minor": 5
}
