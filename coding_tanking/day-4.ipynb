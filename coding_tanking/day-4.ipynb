{
 "cells": [
  {
   "cell_type": "markdown",
   "id": "c5daa41c",
   "metadata": {},
   "source": [
    "# Listas, Índices, Iterações de listas, Métodos de listas"
   ]
  },
  {
   "cell_type": "markdown",
   "id": "3db6fe50",
   "metadata": {},
   "source": [
    "E se quisermos fazer o programa que a pessoa digita 10 numeros e dizemos o maior, conseguimos?\n",
    "\n",
    "E se quisermos o 2° maior? E se quisermos o 5º? \n",
    "\n",
    "Podemos resolver com **listas**"
   ]
  },
  {
   "cell_type": "markdown",
   "id": "f12432bd",
   "metadata": {},
   "source": [
    "- Listas: \n",
    "\n",
    "Listas são coleções de objetos em Python e é expressada por `[]`"
   ]
  },
  {
   "cell_type": "code",
   "execution_count": null,
   "id": "0d381daf",
   "metadata": {
    "ExecuteTime": {
     "end_time": "2022-10-16T23:31:25.992488Z",
     "start_time": "2022-10-16T23:31:25.972541Z"
    }
   },
   "outputs": [],
   "source": [
    "lista_1 = []\n",
    "lista_2 = list()\n",
    "lista_3 = [1, 2, 3.5, 'quatro', 5, 6.1] # misturando int, str, float"
   ]
  },
  {
   "cell_type": "code",
   "execution_count": null,
   "id": "0b37acfb",
   "metadata": {
    "ExecuteTime": {
     "end_time": "2022-10-16T23:32:32.335830Z",
     "start_time": "2022-10-16T23:32:32.320000Z"
    }
   },
   "outputs": [],
   "source": [
    "lista = [1, 3, 5, 7, 9, 11, 13, 15, 17, 21]\n",
    "#Indices 0, 1, 2, 3, 4, 5 , 6 , 7 , 8 , 9"
   ]
  },
  {
   "cell_type": "markdown",
   "id": "db33a0c3",
   "metadata": {},
   "source": [
    "Em uma lista, a posição dos elementos é importante"
   ]
  },
  {
   "cell_type": "code",
   "execution_count": null,
   "id": "02b7270b",
   "metadata": {
    "ExecuteTime": {
     "end_time": "2022-10-16T23:33:06.577475Z",
     "start_time": "2022-10-16T23:33:06.569462Z"
    }
   },
   "outputs": [],
   "source": [
    "lista"
   ]
  },
  {
   "cell_type": "markdown",
   "id": "553baf4c",
   "metadata": {
    "ExecuteTime": {
     "end_time": "2022-10-16T22:53:52.221009Z",
     "start_time": "2022-10-16T22:53:52.204055Z"
    }
   },
   "source": [
    "O que podemos fazer com a lista?"
   ]
  },
  {
   "cell_type": "code",
   "execution_count": null,
   "id": "544879a5",
   "metadata": {
    "ExecuteTime": {
     "end_time": "2022-10-16T23:33:15.128601Z",
     "start_time": "2022-10-16T23:33:15.101673Z"
    }
   },
   "outputs": [],
   "source": [
    "# podemos acessar os elementos da lista\n",
    "print(lista[0])\n",
    "\n",
    "print(lista[1])\n",
    "\n",
    "print(lista[2])\n",
    "\n",
    "print(lista[3])\n",
    "\n",
    "print(lista[4])\n",
    "\n",
    "print(lista[5])\n",
    "\n",
    "print(lista[6])\n",
    "\n",
    "print(lista[7])\n",
    "\n",
    "print(lista[8])\n",
    "\n",
    "print(lista[9])\n",
    "\n",
    "print(lista[10])"
   ]
  },
  {
   "cell_type": "code",
   "execution_count": null,
   "id": "009597d7",
   "metadata": {
    "ExecuteTime": {
     "end_time": "2022-10-16T23:33:07.835925Z",
     "start_time": "2022-10-16T23:33:07.818931Z"
    }
   },
   "outputs": [],
   "source": [
    "# podemos saber a quantidade de elementos da lista\n",
    "\n",
    "print(len(lista))"
   ]
  },
  {
   "cell_type": "code",
   "execution_count": null,
   "id": "718ec917",
   "metadata": {},
   "outputs": [],
   "source": [
    "lista"
   ]
  },
  {
   "cell_type": "code",
   "execution_count": null,
   "id": "d0042f21",
   "metadata": {
    "ExecuteTime": {
     "end_time": "2022-10-16T23:38:49.990307Z",
     "start_time": "2022-10-16T23:38:49.969364Z"
    }
   },
   "outputs": [],
   "source": [
    "# podemos quebrar a lista\n",
    "\n",
    "print(lista[3:6]) # inserindo a posição de início e fim dos elementos (repare que a posição final não entra na chamada)\n",
    "\n",
    "print(lista[:5]) # quando não passarmos o início está subentendido que será o primeiro elemento\n",
    "\n",
    "print(lista[5:]) # quando não passarmos o final está subentendido que será o último elemento\n",
    "\n",
    "print(lista[1:8:2]) # os três elementos sifnificam, respectivamente, início: fim: passo"
   ]
  },
  {
   "cell_type": "code",
   "execution_count": null,
   "id": "23f8ead4",
   "metadata": {
    "ExecuteTime": {
     "end_time": "2022-10-16T23:34:03.659012Z",
     "start_time": "2022-10-16T23:34:03.644575Z"
    }
   },
   "outputs": [],
   "source": [
    "# podemos substituir um valor da lista\n",
    "\n",
    "lista[2] = 11\n",
    "\n",
    "print(lista)"
   ]
  },
  {
   "cell_type": "code",
   "execution_count": null,
   "id": "dc881dd8",
   "metadata": {
    "ExecuteTime": {
     "end_time": "2022-10-16T23:34:10.574595Z",
     "start_time": "2022-10-16T23:34:10.568581Z"
    }
   },
   "outputs": [],
   "source": [
    "# podemos acrescentar valores na lista -> usando a função append\n",
    "lista.append(99)"
   ]
  },
  {
   "cell_type": "code",
   "execution_count": null,
   "id": "9459920a",
   "metadata": {
    "ExecuteTime": {
     "end_time": "2022-10-16T23:34:16.712032Z",
     "start_time": "2022-10-16T23:34:16.693072Z"
    }
   },
   "outputs": [],
   "source": [
    "print(lista)"
   ]
  },
  {
   "cell_type": "markdown",
   "id": "480bb39f",
   "metadata": {},
   "source": [
    "Existem várias outras funções de lista que vocês irão ver no módulo, como:\n",
    "- insert\n",
    "- remove\n",
    "- pop\n",
    "- sort\n",
    "- reverse\n",
    "- index\n",
    "- max, min, len\n",
    "\n",
    "- list comprehension"
   ]
  },
  {
   "cell_type": "markdown",
   "id": "55cf4043",
   "metadata": {},
   "source": [
    "**Bora praticar!**\n",
    "\n",
    "1. Será que agora conseguimos fazer o exercício de identificação do maior número, mas agora utilizando listas?"
   ]
  },
  {
   "cell_type": "code",
   "execution_count": 1,
   "id": "62a47238",
   "metadata": {
    "ExecuteTime": {
     "end_time": "2022-10-16T23:42:43.127808Z",
     "start_time": "2022-10-16T23:42:32.585787Z"
    }
   },
   "outputs": [
    {
     "name": "stdout",
     "output_type": "stream",
     "text": [
      "21\n"
     ]
    }
   ],
   "source": [
    "lista = [1, 3, 5, 7, 9, 11, 13, 15, 17, 21]\n",
    "print(max(lista))"
   ]
  },
  {
   "cell_type": "markdown",
   "id": "426282b4",
   "metadata": {},
   "source": [
    "2. E se quisermos mostrar o terceiro maior número ao usuário."
   ]
  },
  {
   "cell_type": "code",
   "execution_count": 36,
   "id": "0ad98da4",
   "metadata": {},
   "outputs": [
    {
     "name": "stdout",
     "output_type": "stream",
     "text": [
      "15\n",
      "21\n"
     ]
    }
   ],
   "source": [
    "lista = [1, 3, 5, 7, 9, 11, 13, 15, 17, 21]\n",
    "\n",
    "lista.sort(reverse=True)\n",
    "print(lista[2])"
   ]
  },
  {
   "cell_type": "markdown",
   "id": "21b64d18",
   "metadata": {},
   "source": [
    "3. Dada a seguinte lista de números\n",
    "\n",
    "```python\n",
    "\n",
    "numeros = [5, 13, 8, 44, 9]\n",
    "\n",
    "```\n",
    "\n",
    "Emita a mensagem a seguir a para todos os valores da lista\n",
    "\n",
    "```python\n",
    "\n",
    "indice 0: 5\n",
    "\n",
    "indice 1: 13\n",
    "...\n",
    "\n",
    "```\n",
    "por fim some todos os valores dessa lista."
   ]
  },
  {
   "cell_type": "code",
   "execution_count": 18,
   "id": "9b938132",
   "metadata": {
    "ExecuteTime": {
     "end_time": "2022-10-16T23:44:22.827213Z",
     "start_time": "2022-10-16T23:44:22.788322Z"
    }
   },
   "outputs": [
    {
     "name": "stdout",
     "output_type": "stream",
     "text": [
      "indice 0: 5\n",
      "indice 1: 13\n",
      "indice 2: 8\n",
      "indice 3: 44\n",
      "A soma dos valores é 70\n"
     ]
    }
   ],
   "source": [
    "numeros = [5, 13, 8, 44, 9]\n",
    "soma = 0\n",
    "\n",
    "for n in range(0, len(numeros) - 1):\n",
    "    print(f\"indice {n}: {numeros[n]}\")\n",
    "    soma += numeros[n]\n",
    "print(f\"A soma dos valores é {soma}\")"
   ]
  },
  {
   "cell_type": "markdown",
   "id": "7c0cb36f",
   "metadata": {},
   "source": [
    "4.  Crie uma lista crescente (começando do 0) com a quantidade de elementos dada pelo usuário"
   ]
  },
  {
   "cell_type": "code",
   "execution_count": 20,
   "id": "6dd0bac5",
   "metadata": {
    "ExecuteTime": {
     "end_time": "2022-10-16T23:46:33.045484Z",
     "start_time": "2022-10-16T23:46:31.102366Z"
    }
   },
   "outputs": [
    {
     "name": "stdout",
     "output_type": "stream",
     "text": [
      "[51, 65, 88, 4000, 5000, 8750, 9843]\n"
     ]
    }
   ],
   "source": [
    "qtd = int(input(\"Quantos valores quer inserir?\"))\n",
    "lista = list()\n",
    "\n",
    "i = 0\n",
    "while i <= qtd:\n",
    "    num = int(input(\"n: \"))\n",
    "    lista.append(num)\n",
    "    i += 1\n",
    "\n",
    "lista.sort(reverse=False)\n",
    "print(lista)"
   ]
  },
  {
   "cell_type": "markdown",
   "id": "e430d887",
   "metadata": {},
   "source": [
    "Maneiras de percorrer uma lista\n",
    "\n",
    "numeros = [1, 3, 5, 7, 9]\n",
    "\n",
    "- Usando while\n",
    "\n",
    "Pros: Eu sei não só o elemento mas sei o indice também   \n",
    "Contra: Eu preciso controlar o indice\n",
    "\n",
    "```python\n",
    "contador = 0\n",
    "while (contador < len(numeros)):\n",
    "    print(numeros[contador])\n",
    "    contador = contador + 1  Se eu esquecer essa linha\n",
    "```\n",
    "\n",
    "\n",
    "- Jeito intermediario: for in range\n",
    "\n",
    "Pros: Sei o indice, não preciso controlar o loop  \n",
    "Contra: Precisa saber usar a função range  \n",
    "range(5) ->  [0, 1, 2, 3, 4]\n",
    "\n",
    "```python\n",
    "numeros = [1, 3, 5, 7, 9]\n",
    "for indice in range(len(numeros)):\n",
    "    print(numeros[indice])\n",
    "```\n",
    "\n",
    "\n",
    "- Usando só for\n",
    "\n",
    "Pros: não preciso me preocupar com o indice  \n",
    "Contra: não sei indice"
   ]
  },
  {
   "cell_type": "code",
   "execution_count": null,
   "id": "c4f2dda2",
   "metadata": {},
   "outputs": [],
   "source": [
    "numeros = [5, 13, 8, 44, 9]\n",
    "\n",
    "for numero in numeros:  # numero é uma especie de variavel temporaria\n",
    "    print(numero)"
   ]
  },
  {
   "cell_type": "markdown",
   "id": "71024b38",
   "metadata": {},
   "source": [
    "A função range"
   ]
  },
  {
   "cell_type": "code",
   "execution_count": 39,
   "id": "f0b59c67",
   "metadata": {},
   "outputs": [
    {
     "name": "stdout",
     "output_type": "stream",
     "text": [
      "[0, 1, 2]\n",
      "range(2, 3)\n",
      "range(1, 10, 2)\n"
     ]
    }
   ],
   "source": [
    "print(list(range(3))) # apenas o fim\n",
    "\n",
    "print(range(2, 3)) # começo e fim\n",
    "\n",
    "print(range(1, 10, 2)) # começo, fim e passo"
   ]
  },
  {
   "cell_type": "markdown",
   "id": "f41aa6a1",
   "metadata": {},
   "source": [
    "Podemos fazer o exercício 3 utilizando o for."
   ]
  },
  {
   "cell_type": "code",
   "execution_count": null,
   "id": "99c5a042",
   "metadata": {},
   "outputs": [],
   "source": [
    "numeros = [5, 13, 8, 44, 9]\n",
    "soma = 0\n",
    "indice = 0\n",
    "\n",
    "for i in range(len(numeros)): \n",
    "    print(f\"indice {i}: {numeros[i]}\")\n",
    "    soma = soma + numeros[i]\n",
    "print(\"Soma:\", soma)"
   ]
  },
  {
   "cell_type": "markdown",
   "id": "85a4ae40",
   "metadata": {},
   "source": [
    "**list comprehension**  \n",
    "Podemos criar listas utilizando o **for** loop de forma prática"
   ]
  },
  {
   "cell_type": "code",
   "execution_count": null,
   "id": "364ba505",
   "metadata": {},
   "outputs": [],
   "source": [
    "numeros = [1, 2, 3, 4, 5]\n",
    "\n",
    "[2*i for i in numeros]"
   ]
  },
  {
   "cell_type": "markdown",
   "id": "18c36530",
   "metadata": {},
   "source": [
    "**Bora praticar!**\n",
    "1. Crie uma lista qualquer e faça um programa que imprima cada elemento da lista usando o for."
   ]
  },
  {
   "cell_type": "code",
   "execution_count": 25,
   "id": "c4b3e96d",
   "metadata": {},
   "outputs": [
    {
     "name": "stdout",
     "output_type": "stream",
     "text": [
      "-4 -2 0 2 4 "
     ]
    }
   ],
   "source": [
    "vec = [-4, -2, 0, 2, 4]\n",
    "for i in vec:\n",
    "    print(i, end=' ')"
   ]
  },
  {
   "cell_type": "markdown",
   "id": "529d3c39",
   "metadata": {},
   "source": [
    "2. Faça um programa que imprima todos os itens de uma lista usando while e compare com o exercício 1."
   ]
  },
  {
   "cell_type": "code",
   "execution_count": 27,
   "id": "428df806",
   "metadata": {},
   "outputs": [
    {
     "name": "stdout",
     "output_type": "stream",
     "text": [
      "-4\n",
      "-2\n",
      "0\n",
      "2\n",
      "4\n"
     ]
    }
   ],
   "source": [
    "vec = [-4, -2, 0, 2, 4]\n",
    "i = 0\n",
    "while i <= len(vec) - 1:\n",
    "    print(vec[i])\n",
    "    i += 1"
   ]
  },
  {
   "cell_type": "markdown",
   "id": "baa756e6",
   "metadata": {},
   "source": [
    "3. Faça um programa que peça para o usuário digitar um número n e imprima uma lista com todos os números de 0 a n-1."
   ]
  },
  {
   "cell_type": "code",
   "execution_count": 50,
   "id": "79274921",
   "metadata": {},
   "outputs": [
    {
     "name": "stdout",
     "output_type": "stream",
     "text": [
      "0\n",
      "1\n",
      "2\n",
      "3\n",
      "4\n",
      "0\n",
      "1\n",
      "2\n",
      "3\n",
      "4\n"
     ]
    },
    {
     "data": {
      "text/plain": [
       "[None, None, None, None, None]"
      ]
     },
     "execution_count": 50,
     "metadata": {},
     "output_type": "execute_result"
    }
   ],
   "source": [
    "n = int(input(\"Digite um número natural: \"))\n",
    "for i in range(n):\n",
    "    print(i)\n",
    "[print(i) for i in range(n)]"
   ]
  },
  {
   "cell_type": "markdown",
   "id": "ae729dd1",
   "metadata": {},
   "source": [
    "4. Faça um programa que olhe todos os itens de uma lista e diga quantos deles são pares. "
   ]
  },
  {
   "cell_type": "code",
   "execution_count": 34,
   "id": "da5d8a74",
   "metadata": {},
   "outputs": [
    {
     "name": "stdout",
     "output_type": "stream",
     "text": [
      "[-4, -2, 0, 2, 4]\n"
     ]
    }
   ],
   "source": [
    "vec = [-4, -2, 0, 2, 4, 5]\n",
    "pares = [i\n",
    "        for i in vec\n",
    "        if i % 2 == 0\n",
    "        ]\n",
    "print(pares)"
   ]
  },
  {
   "cell_type": "markdown",
   "id": "523d195f",
   "metadata": {},
   "source": [
    "5. Faça um programa que imprima o maior número de uma lista, sem usar o método max()."
   ]
  },
  {
   "cell_type": "code",
   "execution_count": 37,
   "id": "6b568b54",
   "metadata": {},
   "outputs": [
    {
     "name": "stdout",
     "output_type": "stream",
     "text": [
      "21\n"
     ]
    }
   ],
   "source": [
    "lista = [1, 3, 5, 7, 9, 11, 13, 15, 17, 21]\n",
    "maior = lista[0]\n",
    "for i in lista:\n",
    "    maior = i if i > maior else maior\n",
    "print(maior)"
   ]
  },
  {
   "cell_type": "markdown",
   "id": "0faa9fcd",
   "metadata": {},
   "source": [
    "6. Agora usando o método max() faça um programa que imprima os três maiores números de uma lista. "
   ]
  },
  {
   "cell_type": "code",
   "execution_count": 41,
   "id": "0d539d40",
   "metadata": {},
   "outputs": [
    {
     "name": "stdout",
     "output_type": "stream",
     "text": [
      "21\n",
      "17\n",
      "15\n"
     ]
    }
   ],
   "source": [
    "lista = [1, 3, 5, 7, 9, 11, 13, 15, 17, 21]\n",
    "print(max(lista))\n",
    "lista.sort()\n",
    "print(lista[-2])\n",
    "print(lista[-3])"
   ]
  },
  {
   "cell_type": "markdown",
   "id": "9cef68f1",
   "metadata": {},
   "source": [
    "7. Faça um programa que, dadas duas listas de mesmo tamanho, crie uma nova lista com cada elemento igual a soma dos elementos da lista 1 com os da lista 2, na mesma posição. "
   ]
  },
  {
   "cell_type": "code",
   "execution_count": 42,
   "id": "b1244d4d",
   "metadata": {},
   "outputs": [
    {
     "name": "stdout",
     "output_type": "stream",
     "text": [
      "[2, 6, 10, 14, 18, 22, 26, 30, 34, 42]\n"
     ]
    }
   ],
   "source": [
    "new_list = list()\n",
    "list_first = [1, 3, 5, 7, 9, 11, 13, 15, 17, 21]\n",
    "lista_second = [1, 3, 5, 7, 9, 11, 13, 15, 17, 21]\n",
    "for n in range(len(list_first)):\n",
    "    new_list.append(list_first[n] + lista_second[n])\n",
    "\n",
    "print(new_list)"
   ]
  },
  {
   "cell_type": "markdown",
   "id": "aca3d93e",
   "metadata": {},
   "source": [
    "8. Faça um programa que dadas duas listas de mesmo tamanho, imprima o produto escalar entre elas. "
   ]
  },
  {
   "cell_type": "code",
   "execution_count": 43,
   "id": "4e0d1ba5",
   "metadata": {},
   "outputs": [
    {
     "name": "stdout",
     "output_type": "stream",
     "text": [
      "[1, 9, 25, 49, 81, 121, 169, 225, 289, 441]\n"
     ]
    }
   ],
   "source": [
    "new_list = list()\n",
    "list_first = [1, 3, 5, 7, 9, 11, 13, 15, 17, 21]\n",
    "lista_second = [1, 3, 5, 7, 9, 11, 13, 15, 17, 21]\n",
    "for n in range(len(list_first)):\n",
    "    new_list.append(list_first[n] * lista_second[n])\n",
    "\n",
    "print(new_list)"
   ]
  },
  {
   "cell_type": "markdown",
   "id": "2fd28092",
   "metadata": {},
   "source": [
    "9. Faça um programa que pede para o usuário digitar 5 números e, ao final, imprime uma lista com os 5 números digitados pelo usuário (sem converter os números para int ou float). \n"
   ]
  },
  {
   "cell_type": "code",
   "execution_count": 45,
   "id": "9725cae9",
   "metadata": {},
   "outputs": [
    {
     "name": "stdout",
     "output_type": "stream",
     "text": [
      "['5', '8', '4000', '8500', '15600', '1900']\n"
     ]
    }
   ],
   "source": [
    "valores = list()\n",
    "i = 0\n",
    "\n",
    "while i <= 5:\n",
    "    valor = input(\"Digite um número: \")\n",
    "    valores.append(valor)\n",
    "    i += 1\n",
    "\n",
    "print(valores)"
   ]
  },
  {
   "cell_type": "markdown",
   "id": "7b920536",
   "metadata": {},
   "source": [
    "10. Pegue a lista gerada no exercício anterior e transforme cada um dos itens dessa lista em um float."
   ]
  },
  {
   "cell_type": "code",
   "execution_count": 46,
   "id": "66b8d853",
   "metadata": {},
   "outputs": [
    {
     "name": "stdout",
     "output_type": "stream",
     "text": [
      "[5.0, 8.0, 4000.0, 8500.0, 15600.0, 1900.0]\n"
     ]
    }
   ],
   "source": [
    "usuario = ['5', '8', '4000', '8500', '15600', '1900']\n",
    "flutuantes = [float(i) for i in usuario]\n",
    "print(flutuantes)"
   ]
  },
  {
   "cell_type": "markdown",
   "id": "cf44aee1",
   "metadata": {},
   "source": [
    "11. Faça um Programa que peça as 4 notas bimestrais e mostre a média, usando listas."
   ]
  },
  {
   "cell_type": "code",
   "execution_count": 49,
   "id": "ebd38c42",
   "metadata": {},
   "outputs": [
    {
     "name": "stdout",
     "output_type": "stream",
     "text": [
      "A média do aluno é 7.25\n",
      "\n",
      "Suas notas foram: 9\n",
      "5\n",
      "6\n",
      "9\n",
      "\n"
     ]
    }
   ],
   "source": [
    "i = 1\n",
    "notas = list()\n",
    "soma = 0\n",
    "while i <= 4:\n",
    "    nota = int(input(f\"Nota {i}\"))\n",
    "    soma += nota\n",
    "    notas.append(nota)\n",
    "    i += 1\n",
    "media = soma / 4\n",
    "print(f\"A média do aluno é {media}\")\n",
    "print(f\"\"\"\n",
    "Suas notas foram: \n",
    "{notas[0]}\n",
    "{notas[1]}\n",
    "{notas[2]}\n",
    "{notas[3]}\n",
    "\"\"\")"
   ]
  },
  {
   "cell_type": "markdown",
   "id": "bf87d55d",
   "metadata": {},
   "source": [
    "12. Crie uma lista com 10 números quaisquer:  \n",
    " a.  uma lista com os 4 primeiros números  \n",
    " b.  uma lista com os 5 últimos números  \n",
    " c.  uma lista contendo apenas os elementos das posições pares  \n",
    " d.  uma lista contendo apenas os elementos das posições ímpares  \n",
    " e.  a lista inversa da lista sorteada (isto é, uma lista que começa com o último elemento da lista sorteada e termina com o primeiro)  \n",
    " f.  uma lista inversa dos 5 primeiros números  \n",
    " g.  uma lista inversa dos 5 últimos números.\n"
   ]
  },
  {
   "cell_type": "code",
   "execution_count": null,
   "id": "0842c0d2",
   "metadata": {},
   "outputs": [],
   "source": []
  },
  {
   "cell_type": "markdown",
   "id": "324bf6d4",
   "metadata": {},
   "source": [
    "13. Faça um programa que sorteia 10 números entre 0 e 100 e conte quantos números sorteados são maiores que 50."
   ]
  },
  {
   "cell_type": "code",
   "execution_count": 1,
   "id": "98a760e4",
   "metadata": {},
   "outputs": [
    {
     "name": "stdout",
     "output_type": "stream",
     "text": [
      "9\n"
     ]
    }
   ],
   "source": [
    "numeros = [6, 85, 99, 5000, 87, 65, 98, 33333, 65, 34, 88, 41]\n",
    "qtd = len([x for x in numeros if x > 50])\n",
    "print(qtd)"
   ]
  },
  {
   "cell_type": "markdown",
   "id": "b674329c",
   "metadata": {},
   "source": [
    "14. Faça um programa que sorteie 10 números entre 0 e 100 e imprima:  \n",
    "a.  o maior número sorteado  \n",
    "b.  o menor número sorteado  \n",
    "c.  a média dos números sorteados  \n",
    "d.  a soma dos números sorteados"
   ]
  },
  {
   "cell_type": "code",
   "execution_count": 2,
   "id": "918d75fb",
   "metadata": {},
   "outputs": [
    {
     "name": "stdout",
     "output_type": "stream",
     "text": [
      "39001\n"
     ]
    }
   ],
   "source": [
    "numeros = [6, 85, 99, 5000, 87, 65, 98, 33333, 65, 34, 88, 41]\n",
    "print(sum(numeros))"
   ]
  }
 ],
 "metadata": {
  "kernelspec": {
   "display_name": "Python 3.8.10 64-bit",
   "language": "python",
   "name": "python3"
  },
  "language_info": {
   "codemirror_mode": {
    "name": "ipython",
    "version": 3
   },
   "file_extension": ".py",
   "mimetype": "text/x-python",
   "name": "python",
   "nbconvert_exporter": "python",
   "pygments_lexer": "ipython3",
   "version": "3.8.10"
  },
  "varInspector": {
   "cols": {
    "lenName": 16,
    "lenType": 16,
    "lenVar": 40
   },
   "kernels_config": {
    "python": {
     "delete_cmd_postfix": "",
     "delete_cmd_prefix": "del ",
     "library": "var_list.py",
     "varRefreshCmd": "print(var_dic_list())"
    },
    "r": {
     "delete_cmd_postfix": ") ",
     "delete_cmd_prefix": "rm(",
     "library": "var_list.r",
     "varRefreshCmd": "cat(var_dic_list()) "
    }
   },
   "types_to_exclude": [
    "module",
    "function",
    "builtin_function_or_method",
    "instance",
    "_Feature"
   ],
   "window_display": false
  },
  "vscode": {
   "interpreter": {
    "hash": "31f2aee4e71d21fbe5cf8b01ff0e069b9275f58929596ceb00d14d90e3e16cd6"
   }
  }
 },
 "nbformat": 4,
 "nbformat_minor": 5
}
