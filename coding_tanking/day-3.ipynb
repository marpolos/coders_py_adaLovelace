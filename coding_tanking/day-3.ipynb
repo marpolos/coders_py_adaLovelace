{
 "cells": [
  {
   "cell_type": "markdown",
   "metadata": {},
   "source": [
    "# Tópicos da aula\n",
    "\n",
    "- Estruturas de repetição\n",
    "- Looping while"
   ]
  },
  {
   "cell_type": "markdown",
   "metadata": {},
   "source": [
    "Na aula passada fizemos o programa que a pessoa digitava 2 numeros e a gente dizia o maior e se quisermos 3? E se quisermos 10? E se quisermos 100? Conseguimos fazer?"
   ]
  },
  {
   "cell_type": "markdown",
   "metadata": {},
   "source": [
    "## Recapitulando\n",
    "\n",
    "Quando queremos alterar o fluxo de execução do programa podemos utilizar o comando if junto com uma expressão lógica."
   ]
  },
  {
   "cell_type": "code",
   "execution_count": null,
   "metadata": {},
   "outputs": [],
   "source": [
    "print(3 > 5)\n",
    "# Expressões lógicas retornam true ou false"
   ]
  },
  {
   "cell_type": "code",
   "execution_count": null,
   "metadata": {},
   "outputs": [],
   "source": [
    "if(5 > 3):\n",
    "    print('Nunca vai rodar essa linha')"
   ]
  },
  {
   "cell_type": "markdown",
   "metadata": {},
   "source": [
    "## Estruturas de Repetição\n",
    "\n",
    "Um if não garante que eu consigo validar o valor de um campo, pois se o usuário nao acertar na 2a vez, ele seguirá inválido"
   ]
  },
  {
   "cell_type": "code",
   "execution_count": null,
   "metadata": {},
   "outputs": [],
   "source": [
    "salario = float(input(\"digite seu salario: \"))\n",
    "if(salario < 1100):\n",
    "    salario = float(input(\"salario invalido, digite outro: \"))\n",
    "else:\n",
    "    print(\"valido\", salario)"
   ]
  },
  {
   "cell_type": "code",
   "execution_count": null,
   "metadata": {},
   "outputs": [],
   "source": [
    "salario = float(input(\"digite seu salario: \"))\n",
    "while(salario < 1100): # Recebe uma expressão logica\n",
    "    #Enquanto a expressao for verdade, ele repete as linhas\n",
    "    # que estao dentro\n",
    "    salario = float(input(\"salario invalido, digite outro: \"))\n",
    "print(salario)"
   ]
  },
  {
   "cell_type": "markdown",
   "metadata": {},
   "source": [
    "__Obs.__: SEMPRE que eu trabalho com estrutura de repetição (WHILE) é NECESSÁRIO que a condição seja alterada dentro do while, SENAO entro em looping infinito"
   ]
  },
  {
   "cell_type": "code",
   "execution_count": null,
   "metadata": {},
   "outputs": [],
   "source": [
    "# Exemplo de looping infinito\n",
    "salario = float(input(\"digite seu salario: \"))\n",
    "while(salario < 1100): ## Recebe uma expressão logica\n",
    "    print(salario)"
   ]
  },
  {
   "cell_type": "markdown",
   "metadata": {},
   "source": [
    "Como podemos alterar este código para que não haja o loop infinito"
   ]
  },
  {
   "cell_type": "code",
   "execution_count": null,
   "metadata": {},
   "outputs": [],
   "source": [
    "# Veja agora um exemplo em que não há o loop infinito\n",
    "numero = int(input(\"Digite um numero: \"))\n",
    "maior = numero\n",
    "while(numero != 0):\n",
    "    numero = int(input(\"Digite um novo numero ou 0 para encerrar: \"))\n",
    "    if(numero > maior):\n",
    "        maior = numero\n",
    "    print(maior)\n",
    "print(maior)"
   ]
  },
  {
   "cell_type": "markdown",
   "metadata": {},
   "source": [
    "__Exemplo:__ Some todos os numeros de 0 a um numero digitado pelo usuario"
   ]
  },
  {
   "cell_type": "code",
   "execution_count": null,
   "metadata": {},
   "outputs": [],
   "source": [
    "soma = 0\n",
    "contador = 0\n",
    "limite = int(input(\"Digite um numero: \"))\n",
    "while(contador <= limite):\n",
    "    soma = soma + contador\n",
    "    contador = contador + 1\n",
    "print(soma)"
   ]
  },
  {
   "cell_type": "code",
   "execution_count": null,
   "metadata": {},
   "outputs": [],
   "source": [
    "numero = int(input(\"Digite um numero: \"))\n",
    "contador = 1\n",
    "string = ''\n",
    "while(contador <= numero):\n",
    "    string = string + str(contador) + ' '\n",
    "    contador = contador + 1\n",
    "print(string)"
   ]
  },
  {
   "cell_type": "markdown",
   "metadata": {},
   "source": [
    "**Bora praticar!**\n",
    "\n",
    "1) Escreva um programa que solicite um número inteiro e imprima na tela todos os números de 1 até o número digitado, separado por espaços.  \n",
    "_Exemplo_  \n",
    "número digitado: 5  \n",
    "resultado esperado: 1 2 3 4 5"
   ]
  },
  {
   "cell_type": "code",
   "execution_count": 1,
   "metadata": {},
   "outputs": [
    {
     "name": "stdout",
     "output_type": "stream",
     "text": [
      "1 2 3 4 5 "
     ]
    }
   ],
   "source": [
    "num = int(input(\"Digite um número\"))\n",
    "\n",
    "value = 1\n",
    "while value <= num:\n",
    "    print(value, end=' ')\n",
    "    value += 1"
   ]
  },
  {
   "cell_type": "markdown",
   "metadata": {},
   "source": [
    "2) Faça um programa que mostre o fatorial de um número digitado.  \n",
    "_Exemplo_  \n",
    "número digitado: 5  \n",
    "resultado esperado: 120"
   ]
  },
  {
   "cell_type": "code",
   "execution_count": 2,
   "metadata": {},
   "outputs": [
    {
     "name": "stdout",
     "output_type": "stream",
     "text": [
      "120\n"
     ]
    }
   ],
   "source": [
    "num = int(input(\"Digite um número: \"))\n",
    "fatorial = 1\n",
    "\n",
    "while num >= 1:\n",
    "    fatorial *= num\n",
    "    num -= 1\n",
    "\n",
    "print(fatorial)"
   ]
  },
  {
   "cell_type": "markdown",
   "metadata": {},
   "source": [
    "3) Faça um programa que imprima a tabuada do 9 na tela (entre 1 e 10). Insira a conta, por exemplo, 9 * 1 = 9, sendo cada um dos valores em uma linha diferente."
   ]
  },
  {
   "cell_type": "code",
   "execution_count": 4,
   "metadata": {},
   "outputs": [
    {
     "name": "stdout",
     "output_type": "stream",
     "text": [
      "9 * 1 = 9\n",
      "9 * 2 = 18\n",
      "9 * 3 = 27\n",
      "9 * 4 = 36\n",
      "9 * 5 = 45\n",
      "9 * 6 = 54\n",
      "9 * 7 = 63\n",
      "9 * 8 = 72\n",
      "9 * 9 = 81\n",
      "9 * 10 = 90\n"
     ]
    }
   ],
   "source": [
    "nove = 9\n",
    "i = 1\n",
    "\n",
    "while i <= 10:\n",
    "    mult = i * nove\n",
    "    print(f\"{nove} * {i} = {mult}\")\n",
    "    i += 1"
   ]
  },
  {
   "cell_type": "markdown",
   "metadata": {},
   "source": [
    "4) Faça um programa em que o usuário digite números quaisquer que encerrará no momento em que o valor 0 seja digitado. Ao final diga qual foi o maior número digitado."
   ]
  },
  {
   "cell_type": "code",
   "execution_count": 5,
   "metadata": {},
   "outputs": [
    {
     "name": "stdout",
     "output_type": "stream",
     "text": [
      "O maior valor digitado foi 8\n"
     ]
    }
   ],
   "source": [
    "num = int(input(\"Digite o número: \"))\n",
    "maior = num\n",
    "\n",
    "while num != 0:\n",
    "    num = int(input(\"Digite o número: \"))\n",
    "    if num > maior:\n",
    "        maior = num\n",
    "print(f\"O maior valor digitado foi {maior}\")"
   ]
  },
  {
   "cell_type": "markdown",
   "metadata": {},
   "source": [
    "5. Faça um script que peça para o usuário digitar a idade, o salário e o sexo de uma pessoa até que as entradas digitadas sejam válidas.  \n",
    "  \n",
    "a. Idade: entre 0 e 150  \n",
    "b. Salário: maior que 0  \n",
    "c. Gênero: M, F ou Outro  \n",
    "  \n",
    "Por último imprima os dados recebidos do usuário."
   ]
  },
  {
   "cell_type": "code",
   "execution_count": 1,
   "metadata": {},
   "outputs": [
    {
     "name": "stdout",
     "output_type": "stream",
     "text": [
      "-1\n",
      "-1.0\n",
      "\n",
      "Valores inseridos:\n",
      "Idade: 55\n",
      "Salário: 5000.0\n",
      "Gênero: f\n",
      "\n"
     ]
    }
   ],
   "source": [
    "idade, salario, genero = -1, -1.0, ''\n",
    "\n",
    "while idade > 150 or idade < 0:\n",
    "    print(idade)\n",
    "    idade = int(input(\"Digite a idade: \"))\n",
    "while salario < 0:\n",
    "    print(salario)\n",
    "    salario = float(input(\"Digite o salário\"))\n",
    "while genero != 'f' and genero != 'm' and genero != 'o':\n",
    "    print(genero)\n",
    "    genero = input(\"Digite o gênero [f/m/o]: \")\n",
    "\n",
    "print(f\"\"\"Valores inseridos:\n",
    "Idade: {idade}\n",
    "Salário: {salario}\n",
    "Gênero: {genero}\n",
    "\"\"\")\n"
   ]
  },
  {
   "cell_type": "markdown",
   "metadata": {},
   "source": [
    "6) Faça uma calculadora. O usuário deve inserir qual a operação matemática ele deseja realizar e logo em seguida os dois números. O programa deve finalizar apenas quando o usuário digitar a opção \"sair\" no momento de escolha da operação matemática."
   ]
  },
  {
   "cell_type": "code",
   "execution_count": 6,
   "metadata": {},
   "outputs": [
    {
     "name": "stdout",
     "output_type": "stream",
     "text": [
      "13\n"
     ]
    }
   ],
   "source": [
    "mensagem = \"\"\"Calculadora--------------\n",
    "1 - somar\n",
    "2 - subtrair\n",
    "3 - multiplicar\n",
    "4 - dividir\n",
    "0 - sair\"\"\"\n",
    "\n",
    "response = int(input(mensagem))\n",
    "resultado = 0\n",
    "while response != 0:\n",
    "    num_1 = int(input(\"Digite um número natural: \"))\n",
    "    num_2 = int(input(\"Digite um número natural: \"))\n",
    "\n",
    "    if response == 1:\n",
    "        resultado = num_1 + num_2\n",
    "        print(resultado)\n",
    "    elif response == 2:\n",
    "        resultado = num_1 - num_2\n",
    "        print(resultado)\n",
    "    elif response == 3:\n",
    "        resultado = num_1 * num_2\n",
    "        print(resultado)\n",
    "    else:\n",
    "        resultado = num_1 / num_2\n",
    "        print(resultado)\n",
    "    response = int(input(mensagem))"
   ]
  }
 ],
 "metadata": {
  "kernelspec": {
   "display_name": "Python 3.8.10 64-bit",
   "language": "python",
   "name": "python3"
  },
  "language_info": {
   "codemirror_mode": {
    "name": "ipython",
    "version": 3
   },
   "file_extension": ".py",
   "mimetype": "text/x-python",
   "name": "python",
   "nbconvert_exporter": "python",
   "pygments_lexer": "ipython3",
   "version": "3.8.10"
  },
  "vscode": {
   "interpreter": {
    "hash": "31f2aee4e71d21fbe5cf8b01ff0e069b9275f58929596ceb00d14d90e3e16cd6"
   }
  }
 },
 "nbformat": 4,
 "nbformat_minor": 2
}
