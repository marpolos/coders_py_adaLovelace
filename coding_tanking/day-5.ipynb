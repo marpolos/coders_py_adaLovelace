{
 "cells": [
  {
   "cell_type": "markdown",
   "metadata": {},
   "source": [
    "# Funções\n",
    "## Tópicos da aula\n",
    "- Intuição de funções\n",
    "- Parâmetros\n",
    "- Retorno\n",
    "- Bônus: Recursão"
   ]
  },
  {
   "cell_type": "markdown",
   "metadata": {},
   "source": [
    "E se quisermos utilizar diversas vezes o mesmo programa?"
   ]
  },
  {
   "cell_type": "markdown",
   "metadata": {},
   "source": [
    "Para isso podemos utilizar as funções. Para definir uma função utilizamos a palavra **def**"
   ]
  },
  {
   "cell_type": "code",
   "execution_count": null,
   "metadata": {},
   "outputs": [],
   "source": [
    "#def para definir uma função\n",
    "# imprime_linhas é o nome dado a minha função\n",
    "# () dentro destes parênteses estão os parâmetros que eu espero que sejam passados para minha função\n",
    "def imprime_linhas():\n",
    "    print('linha 1')\n",
    "    print('linha 2')\n",
    "    print('linha 3')"
   ]
  },
  {
   "cell_type": "markdown",
   "metadata": {},
   "source": [
    "E como eu faço para chamar a função criada?"
   ]
  },
  {
   "cell_type": "code",
   "execution_count": null,
   "metadata": {},
   "outputs": [],
   "source": [
    "imprime_linhas()"
   ]
  },
  {
   "cell_type": "markdown",
   "metadata": {},
   "source": [
    "### Parâmetros da função"
   ]
  },
  {
   "cell_type": "code",
   "execution_count": null,
   "metadata": {},
   "outputs": [],
   "source": [
    "## Os parênteses servem para definirmos parametros da função\n",
    "## Parametros são valores que a função pode querer utilizar\n",
    "## Diz-se que o parametro é recebido pela funcao\n",
    "\n",
    "def bom_dia(nome):\n",
    "    print(f'Bom dia {nome}!')"
   ]
  },
  {
   "cell_type": "code",
   "execution_count": null,
   "metadata": {},
   "outputs": [],
   "source": [
    "nome_usuario = input('Digite seu nome: ')\n",
    "bom_dia(nome_usuario)"
   ]
  },
  {
   "cell_type": "code",
   "execution_count": null,
   "metadata": {},
   "outputs": [],
   "source": [
    "## Podemos solicitar mais de um parâmetro\n",
    "\n",
    "def cadastro(nome, idade, cidade):\n",
    "    print(nome, \"tem\", idade, \"anos e mora em\", cidade)\n",
    "\n",
    "cadastro(\"Tiago\", 23, \"São Paulo\") # Se passarmos apenas os parâmetros é necessário que seja na mesma ordem da criação\n",
    "cadastro(idade=23, cidade=\"São Paulo\", nome=\"Tiago\") # Podemos alterar a ordem caso deixemos explícito qual parâmetro\n",
    "cadastro(nome=\"Tiago\", cidade=\"São Paulo\", idade=None) # Podemos ainda passar um dos parâmetros como vazio"
   ]
  },
  {
   "cell_type": "code",
   "execution_count": null,
   "metadata": {},
   "outputs": [],
   "source": [
    "## É possível atribuir um valor padrão para os parâmetros\n",
    "\n",
    "def maior_idade(idade=0):\n",
    "    if(idade >= 18):\n",
    "        print(\"É maior de idade!\")\n",
    "    else:\n",
    "        print(\"É menor de idade!\")\n",
    "\n",
    "\n",
    "maior_idade()\n",
    "maior_idade(18)"
   ]
  },
  {
   "cell_type": "code",
   "execution_count": null,
   "metadata": {},
   "outputs": [],
   "source": [
    "# Podemos utilizar listas como parâmetros\n",
    "\n",
    "def somatorio(lista):\n",
    "    soma = 0\n",
    "    for elemento in lista:\n",
    "        soma = soma + elemento\n",
    "    print(soma)"
   ]
  },
  {
   "cell_type": "code",
   "execution_count": null,
   "metadata": {},
   "outputs": [],
   "source": [
    "numeros = [1, 2, 3, 4, 5, 6]\n",
    "somatorio(numeros)"
   ]
  },
  {
   "cell_type": "markdown",
   "metadata": {},
   "source": [
    "### Return"
   ]
  },
  {
   "cell_type": "code",
   "execution_count": null,
   "metadata": {},
   "outputs": [],
   "source": [
    "def somatorio_return(lista):\n",
    "    soma = 0\n",
    "    for elemento in lista:\n",
    "        soma = soma + elemento\n",
    "    return soma # Retorna o valor\n",
    "\n",
    "numeros = [1, 2, 3, 4, 5, 6]\n",
    "somatorio_return(numeros)"
   ]
  },
  {
   "cell_type": "code",
   "execution_count": null,
   "metadata": {},
   "outputs": [],
   "source": [
    "## O return possibilita armazenar numa variavel\n",
    "\n",
    "soma = somatorio_return(numeros)\n",
    "print(soma)"
   ]
  },
  {
   "cell_type": "code",
   "execution_count": null,
   "metadata": {},
   "outputs": [],
   "source": [
    "def maior_idade(idade=0):\n",
    "    if(idade >= 18):\n",
    "        return True\n",
    "    else:\n",
    "        return False\n",
    "\n",
    "idade = int(input(\"Digite sua idade: \"))\n",
    "\n",
    "if(maior_idade(idade)):\n",
    "    print(\"Era maior\")\n",
    "else:\n",
    "    print(\"Não era\")"
   ]
  },
  {
   "cell_type": "markdown",
   "metadata": {},
   "source": [
    "1. Escreva uma função que calcule e retorne o dobro de um número inserido. Teste este caso solicitando ao usuário que insira um número e após isso, retorne a resposta."
   ]
  },
  {
   "cell_type": "code",
   "execution_count": 1,
   "metadata": {},
   "outputs": [
    {
     "name": "stdout",
     "output_type": "stream",
     "text": [
      "10\n"
     ]
    }
   ],
   "source": [
    "def dobro(n):\n",
    "    return 2*n\n",
    "n = int(input(\"Insira um número\"))\n",
    "print(dobro(n))"
   ]
  },
  {
   "cell_type": "markdown",
   "metadata": {},
   "source": [
    "2. Crie uma função para cálculo do comprimento da circunferência (C = 2 * 3.14 * R), sendo C o comprimento e R o raio da circunferência "
   ]
  },
  {
   "cell_type": "code",
   "execution_count": 2,
   "metadata": {},
   "outputs": [
    {
     "name": "stdout",
     "output_type": "stream",
     "text": [
      "18.84\n"
     ]
    }
   ],
   "source": [
    "def comprimento_circunferencia(r):\n",
    "    return 2 * 3.14 * r\n",
    "print(comprimento_circunferencia(3))"
   ]
  },
  {
   "cell_type": "markdown",
   "metadata": {},
   "source": [
    "3. Faça uma função que emita uma saudação baseada no horário. A função deve receber o nome e o horário (apenas número inteiro) e emita a mensagem com as seguintes condições:\n",
    "- até meio dia (não incluso): \"Bom dia, (VARIAVEL_NOME)\"\n",
    "- entre meio dia (incluso) e 18h (não incluso): \"Boa tarde, (VARIAVEL_NOME)\"\n",
    "- após as 18h (incluso): \"Boa noite, (VARIAVEL_NOME)\""
   ]
  },
  {
   "cell_type": "code",
   "execution_count": 3,
   "metadata": {},
   "outputs": [
    {
     "name": "stdout",
     "output_type": "stream",
     "text": [
      "Boa tarde, Marcelle\n"
     ]
    }
   ],
   "source": [
    "def saudacao(nome, hora):\n",
    "    if hora < 12:\n",
    "        return f\"Bom dia, {nome}\"\n",
    "    elif 12 <= hora < 18:\n",
    "        return f\"Boa tarde, {nome}\"\n",
    "    else:\n",
    "        return f\"Boa noite, {nome}\"\n",
    "print(saudacao(\"Marcelle\", 12))"
   ]
  },
  {
   "cell_type": "markdown",
   "metadata": {},
   "source": [
    "4. Faça uma função que verifique se um número é par. Teste esta função solicitando ao usuário que digite um número e emitindo a mensagem adequada caso o número seja par ou não."
   ]
  },
  {
   "cell_type": "code",
   "execution_count": 5,
   "metadata": {},
   "outputs": [
    {
     "name": "stdout",
     "output_type": "stream",
     "text": [
      "É um número par!\n"
     ]
    }
   ],
   "source": [
    "def par(n):\n",
    "    return \"É um número par!\" if n%2 == 0 else \"É um número ímpar!\"\n",
    "\n",
    "print(par(10))"
   ]
  },
  {
   "cell_type": "markdown",
   "metadata": {},
   "source": [
    "5. Crie uma função que recebe duas listas. Caso estas duas listas sejam do mesmo tamanho some os elementos de cada lista com mesmo índica, caso contrário retorne uma lista vazia.\n",
    "Se as duas listas de entrada forem do mesmo tamanho o programa deve se comportar como no exemplo:\n",
    "```python\n",
    "lista_01 = [1, 2, 3, 4, 5]\n",
    "lista_02 = [6, 7, 8, 9, 10]\n",
    "\n",
    "soma_listas(lista_01, lista_02)\n",
    "```\n",
    "saída:\n",
    "\n",
    "```\n",
    "[7, 9, 11, 13, 15]\n",
    "```"
   ]
  },
  {
   "cell_type": "code",
   "execution_count": 7,
   "metadata": {},
   "outputs": [
    {
     "name": "stdout",
     "output_type": "stream",
     "text": [
      "[7, 9, 11, 13, 15]\n"
     ]
    }
   ],
   "source": [
    "def soma_lista(list_1, list_2):\n",
    "    if len(list_1) != len(list_2):\n",
    "        return list()\n",
    "    else:\n",
    "        list_3 = [list_1[i] + list_2[i] for i in range(len(list_1))]\n",
    "        return list_3\n",
    "\n",
    "lista_01 = [1, 2, 3, 4, 5]\n",
    "lista_02 = [6, 7, 8, 9, 10]\n",
    "\n",
    "print(soma_lista(lista_01, lista_02))"
   ]
  },
  {
   "cell_type": "markdown",
   "metadata": {},
   "source": [
    "6. Utilize a mesma lógica do exercício anterior, porém agora você deve multiplicar os elementos ao invés de somá-los."
   ]
  },
  {
   "cell_type": "code",
   "execution_count": 9,
   "metadata": {},
   "outputs": [
    {
     "name": "stdout",
     "output_type": "stream",
     "text": [
      "[6, 14, 24, 36, 50]\n"
     ]
    }
   ],
   "source": [
    "def soma_lista(list_1, list_2):\n",
    "    if len(list_1) != len(list_2):\n",
    "        return list()\n",
    "    else:\n",
    "        list_3 = [list_1[i] * list_2[i] for i in range(len(list_1))]\n",
    "        return list_3\n",
    "\n",
    "lista_01 = [1, 2, 3, 4, 5]\n",
    "lista_02 = [6, 7, 8, 9, 10]\n",
    "print(soma_lista(lista_01, lista_02))"
   ]
  },
  {
   "cell_type": "markdown",
   "metadata": {},
   "source": [
    "7. Faça uma função que recebe uma lista de números e calcula a média destes números."
   ]
  },
  {
   "cell_type": "code",
   "execution_count": 10,
   "metadata": {},
   "outputs": [
    {
     "name": "stdout",
     "output_type": "stream",
     "text": [
      "3.0\n"
     ]
    }
   ],
   "source": [
    "lista_01 = [1, 2, 3, 4, 5]\n",
    "def media(lista):\n",
    "    return sum(lista) / len(lista)\n",
    "\n",
    "print(media(lista_01))"
   ]
  },
  {
   "cell_type": "markdown",
   "metadata": {},
   "source": [
    "8. Faça uma função que calcula o fatorial de um número."
   ]
  },
  {
   "cell_type": "code",
   "execution_count": 14,
   "metadata": {},
   "outputs": [
    {
     "name": "stdout",
     "output_type": "stream",
     "text": [
      "6\n"
     ]
    }
   ],
   "source": [
    "def fatorial(n):\n",
    "    if n == 1:\n",
    "        return 1\n",
    "    else:\n",
    "        return n * fatorial(n - 1)\n",
    "\n",
    "print(fatorial(3))"
   ]
  },
  {
   "cell_type": "markdown",
   "metadata": {},
   "source": [
    "Podemos resolver este último exercício com o que chamamos de recursão. \n",
    "  \n",
    "Em programação, a recursividade é um mecanismo útil e poderoso que permite a uma função chamar a si mesma direta ou indiretamente, ou seja, uma função é dita recursiva se ela contém pelo menos uma chamada explícita ou implícita a si própria.\n",
    "  \n",
    "Prof. Wellington Lima dos Santos (Unicamp)"
   ]
  },
  {
   "cell_type": "markdown",
   "metadata": {},
   "source": [
    "Para resolver o problema 5!, por exemplo, podemos alterar para o seguinte formato  \n",
    "5! = 5 \\* 4!  \n",
    "4! = 4 \\* 3!  \n",
    "3! = 3 \\* 2!  \n",
    "2! = 2 \\* 1!  \n",
    "1! = 1 \\* 0! = 1"
   ]
  },
  {
   "cell_type": "code",
   "execution_count": null,
   "metadata": {},
   "outputs": [],
   "source": [
    "def calcula_fatorial(numero):\n",
    "    if(numero > 1):\n",
    "        return numero * calcula_fatorial(numero - 1) # Passos \n",
    "    else:\n",
    "        return 1 # Problema base\n",
    "    \n",
    "print(calcula_fatorial(5))"
   ]
  },
  {
   "cell_type": "markdown",
   "metadata": {},
   "source": [
    "### Desafio: Sequência de Fibonacci  \n",
    "Na matemática, a sequência de Fibonacci, é uma sequência de números inteiros, começando por 1 e 1, na qual cada termo subsequente corresponde à soma dos dois anteriores. Segue o exemplo:  \n",
    "\n",
    "1, 1, 2, 3, 5, 8, 13.."
   ]
  },
  {
   "cell_type": "markdown",
   "metadata": {},
   "source": [
    "Faça um programa (sem utilizar recursão) que dado um número irá imprimir na tela a sequência de Fibonacci até o índice dado, no exemplo acima o valor 13 possui índice 7, portanto ao passarmos 13 para a função ela deverá imprimir 8."
   ]
  },
  {
   "cell_type": "code",
   "execution_count": null,
   "metadata": {},
   "outputs": [],
   "source": []
  },
  {
   "cell_type": "markdown",
   "metadata": {},
   "source": [
    "Agora resolva o mesmo problema com recursão."
   ]
  },
  {
   "cell_type": "code",
   "execution_count": null,
   "metadata": {},
   "outputs": [],
   "source": []
  }
 ],
 "metadata": {
  "kernelspec": {
   "display_name": "Python 3.8.10 64-bit",
   "language": "python",
   "name": "python3"
  },
  "language_info": {
   "codemirror_mode": {
    "name": "ipython",
    "version": 3
   },
   "file_extension": ".py",
   "mimetype": "text/x-python",
   "name": "python",
   "nbconvert_exporter": "python",
   "pygments_lexer": "ipython3",
   "version": "3.8.10"
  },
  "orig_nbformat": 4,
  "vscode": {
   "interpreter": {
    "hash": "31f2aee4e71d21fbe5cf8b01ff0e069b9275f58929596ceb00d14d90e3e16cd6"
   }
  }
 },
 "nbformat": 4,
 "nbformat_minor": 2
}
