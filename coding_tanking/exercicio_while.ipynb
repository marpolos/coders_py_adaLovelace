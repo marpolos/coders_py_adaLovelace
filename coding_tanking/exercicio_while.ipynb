{
 "cells": [
  {
   "cell_type": "markdown",
   "metadata": {},
   "source": [
    "1. Pergunte um usuário quantas provas ele fez, depois pergunte a nota de todas as provas.\n",
    "Calcule a média e caso seja maior ou igual a 6 informe que ele está aprovado, se não reprovado."
   ]
  },
  {
   "cell_type": "code",
   "execution_count": null,
   "metadata": {},
   "outputs": [],
   "source": []
  },
  {
   "cell_type": "markdown",
   "metadata": {},
   "source": [
    "2. Faça um programa que o usuário digite quantos números quiser, ate que digite sair.\n",
    "Retorne a soma e a média dos números digitados."
   ]
  },
  {
   "cell_type": "code",
   "execution_count": null,
   "metadata": {},
   "outputs": [],
   "source": []
  },
  {
   "cell_type": "markdown",
   "metadata": {},
   "source": [
    "3. Usando laço, pergunte um usuário a nota de 3 provas. Remova a menor nota e calcule a média das notas que ele atingiu. "
   ]
  },
  {
   "cell_type": "code",
   "execution_count": null,
   "metadata": {},
   "outputs": [],
   "source": []
  },
  {
   "cell_type": "markdown",
   "metadata": {},
   "source": [
    "4. Pergunte o usuário 2 números inteiros, calcule quantos números pares existem entre os 2 número informados.\n",
    "Exemplo: se ele digitar 1 e 9, tem 4 números pares entre esses números 2,4,6,8 ."
   ]
  },
  {
   "cell_type": "code",
   "execution_count": null,
   "metadata": {},
   "outputs": [],
   "source": []
  },
  {
   "cell_type": "markdown",
   "metadata": {},
   "source": [
    "5. Pergunte o usuário 2 números inteiros, calcule a soma de todos os números ímpares inteiros entre esses números.\n",
    "Exemplo: se ele digitar 1 e 9, tem 5 números ímpares entre esses números 1,3,5,7,9, e a soma é 25 ."
   ]
  },
  {
   "cell_type": "code",
   "execution_count": null,
   "metadata": {},
   "outputs": [],
   "source": []
  }
 ],
 "metadata": {
  "kernelspec": {
   "display_name": "Python 3.9.12 ('base')",
   "language": "python",
   "name": "python3"
  },
  "language_info": {
   "name": "python",
   "version": "3.9.12"
  },
  "orig_nbformat": 4,
  "vscode": {
   "interpreter": {
    "hash": "7f52069df51f55474cef70a04f6de2c8e83f851022777c4983d9d0bb63ea6184"
   }
  }
 },
 "nbformat": 4,
 "nbformat_minor": 2
}
