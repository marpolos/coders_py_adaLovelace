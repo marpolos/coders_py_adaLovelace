{
 "cells": [
  {
   "cell_type": "markdown",
   "metadata": {},
   "source": []
  },
  {
   "cell_type": "code",
   "execution_count": null,
   "metadata": {},
   "outputs": [],
   "source": []
  },
  {
   "cell_type": "markdown",
   "metadata": {},
   "source": [
    "Um parque de diversões tem 3 atrações principais: o carrossel, piscina de bolinhas e montanha-russa.\n",
    "\n",
    "Para poder participar de uma atração a pessoa deve cumprir as seguintes condições:\n",
    "Carrossel: altura mínima de 1,00m e idade mínima de 3 anos.\n",
    "\n",
    "Piscina de bolinhas: idade entre 4 e 9 anos e máximo de 1,30m de altura.\n",
    "\n",
    "Montanha-russa: altura mínima de 1,10m.\n",
    "O fiscal de cada atração verificará o ano de nascimento da pessoa e altura para liberar o acesso para uma pessoa.\n",
    "\n",
    "Faça uma função em python que receba o ano de nascimento e altura da pessoa e informe quais as atrações que a pessoa pode participar."
   ]
  },
  {
   "cell_type": "code",
   "execution_count": 22,
   "metadata": {},
   "outputs": [
    {
     "name": "stdout",
     "output_type": "stream",
     "text": [
      "carrossel\n",
      "piscina de bolinhas\n"
     ]
    }
   ],
   "source": [
    "def parque_diversao(nascimento, altura):\n",
    "    idade = 2022 - nascimento\n",
    "    \n",
    "    permitidos = list()\n",
    "\n",
    "    if altura >= 1.0 and idade >= 3:\n",
    "        permitidos.append(\"carrossel\")\n",
    "    if 4 <= idade <= 9 and altura <= 1.3:\n",
    "        permitidos.append(\"piscina de bolinhas\")\n",
    "    if altura >= 1.1:\n",
    "        permitidos.append(\"montanha russa\")\n",
    "\n",
    "    [print(item) for item in permitidos]\n",
    "\n",
    "parque_diversao(2015, 1.00)\n",
    "\n"
   ]
  },
  {
   "cell_type": "markdown",
   "metadata": {},
   "source": [
    "Crie um script que leia diversos números inteiros e insira todos em uma lista. A cada solicitação de número pergunte ao usuário se deseja inserir outro número, tendo como resposta 'S' para inserir mais um ou 'N' caso queira terminar. Ao final mostre:\n",
    "\n",
    "a) todos os números digitados na ordem em que foram inseridos\n",
    "b) todos os números digitados em ordem crescente\n",
    "c) a média destes valores\n",
    "d) apenas os números primos\n",
    "\n",
    "Obs.: Números primos são aqueles que são divisíveis APENAS por 1 e por ele mesmo. Por exemplo, o número 13 é primo visto que só pode ser dividido por 1 e pelo próprio 13."
   ]
  },
  {
   "cell_type": "code",
   "execution_count": 14,
   "metadata": {},
   "outputs": [
    {
     "name": "stdout",
     "output_type": "stream",
     "text": [
      "a - números inseridos\n",
      "[3, 9, 9, 11]\n",
      "b - números em ordem crescente\n",
      "[3, 9, 9, 11]\n",
      "c - média dos valores\n",
      "8.0\n",
      "d - números primos\n",
      "[3, 11]\n"
     ]
    }
   ],
   "source": [
    "def primos(lista):\n",
    "    primos = list()\n",
    "    for item in lista:\n",
    "        divisores = 0\n",
    "        if item > 2:\n",
    "            # 2 é par, por isso ele também não pode entrar na conta e só terá 2 divisores\n",
    "            i = item\n",
    "            while i >= 1:\n",
    "                if item % i == 0:\n",
    "                    divisores += 1\n",
    "                i -= 1\n",
    "            if divisores <= 2:\n",
    "                # pois ele deve ser divisível apenas por 1 e por ele mesmo\n",
    "                primos.append(item)\n",
    "    return primos\n",
    "\n",
    "\n",
    "numeros = list()\n",
    "\n",
    "response = 'S'\n",
    "while response == 'S':\n",
    "    n = int(input(\"Digite um número: \"))\n",
    "    numeros.append(n)\n",
    "    response = input(\"Se desejar digitar outro número, digite S, se não, digite N\").capitalize()\n",
    "media = sum(numeros) / len(numeros)\n",
    "numeros_primos = primos(numeros)\n",
    "\n",
    "print('a - números inseridos')\n",
    "print(numeros)\n",
    "print('b - números em ordem crescente')\n",
    "print(sorted(numeros))\n",
    "print('c - média dos valores')\n",
    "print(media)\n",
    "print('d - números primos')\n",
    "print(numeros_primos)\n"
   ]
  },
  {
   "cell_type": "markdown",
   "metadata": {},
   "source": [
    "Crie uma função que recebe um número (que possa ter casas decimais) e a escala de temperatura em que este valor se encontra e para qual ele deseja converter (celsius, Kelvin ou fahrenheit). Tanto na escala em que se encontra quanto na que deseja converter utilize as letras iniciais como entrada: celsius - 'c', Kelvin - 'k' ou fahrenheit - 'f'.\n",
    "Com esta função criada faça um código que solicite ao usuário as informações necessárias para realizar a conversão de temperatura e chame a função criada. Esta solicitação poderá ser feita quantas vezes forem necessárias, ou seja, deve haver uma solicitação de 'continuar' ou 'sair'.\n",
    "\n",
    "Celsius <> Fahrenheit\n",
    "Tc5=Tf−329\n",
    "Celsius <> Kelvin\n",
    "Tc=Tk−273\n",
    "Kelvin <> Fahrenheit\n",
    "Tk−2735=Tf−329\n",
    "Obs.: Por definição não existem temperaturas em Kelvin abaixo de zero (o valor zero pode existir), portanto trate esta condição tanto na entrada do dado, caso esteja nesta escala, quanto na saída."
   ]
  },
  {
   "cell_type": "code",
   "execution_count": 21,
   "metadata": {},
   "outputs": [
    {
     "name": "stdout",
     "output_type": "stream",
     "text": [
      "86.0 F\n",
      "303.0 K\n",
      "Valor de temperatura inválido\n"
     ]
    }
   ],
   "source": [
    "def conversao_temperatura(temperatura, escala_atual, escala_desejada):\n",
    "    if escala_atual == escala_desejada: \n",
    "        return \"escala de entrada e saída iguais\"\n",
    "\n",
    "    nova_temperatura = 0\n",
    "    if escala_atual == 'k':\n",
    "        if temperatura < 0:\n",
    "            return \"Valor de temperatura inválido\"\n",
    "        elif escala_desejada == 'f':\n",
    "            nova_temperatura = (((temperatura - 273) * 9) / 5) + 32\n",
    "        else:\n",
    "            nova_temperatura = temperatura - 273\n",
    "\n",
    "    elif escala_atual == 'c':\n",
    "        if escala_desejada == 'k':\n",
    "            nova_temperatura = temperatura + 273\n",
    "        else:\n",
    "            nova_temperatura = ((temperatura * 9) / 5) + 32\n",
    "\n",
    "    else:\n",
    "        if escala_desejada == 'c':\n",
    "            nova_temperatura = ((temperatura - 32) * 5) / 9\n",
    "        else:\n",
    "            nova_temperatura = (((temperatura - 32) * 5) / 9) + 273\n",
    "    return f\"{nova_temperatura} {escala_desejada.capitalize()}\"\n",
    "\n",
    "mensagem = \"\"\"Para Celsius digite c\n",
    "Para Kelvin digite k\n",
    "Para Fahrenheit digite f\n",
    "\"\"\"\n",
    "status = 'continuar'\n",
    "while status == \"continuar\":\n",
    "    temperatura = float(input(\"Qual valor da temperatura atual?\"))\n",
    "    escala_atual = input(f\"Qual escala de temperatura de onde você se encontra?\\n{mensagem}\")\n",
    "    escala_desejada = input(f\"Para qual escala deseja converter?\\n{mensagem}\")\n",
    "    print(conversao_temperatura(temperatura, escala_atual, escala_desejada))\n",
    "    status = input(\"Deseja continuar? [continuar/sair]\")"
   ]
  },
  {
   "cell_type": "markdown",
   "metadata": {},
   "source": []
  },
  {
   "cell_type": "code",
   "execution_count": 20,
   "metadata": {},
   "outputs": [
    {
     "name": "stdout",
     "output_type": "stream",
     "text": [
      "2\n"
     ]
    }
   ],
   "source": [
    "x = 0\n",
    "a = 0\n",
    "b = -5\n",
    "if a > 0:\n",
    "    if b < 0: \n",
    "        x = x + 5 \n",
    "    elif a > 5:\n",
    "        x = x + 4\n",
    "    else:\n",
    "        x = x + 3\n",
    "else:\n",
    "    x = x + 2\n",
    "print(x)"
   ]
  }
 ],
 "metadata": {
  "kernelspec": {
   "display_name": "Python 3.8.10 64-bit",
   "language": "python",
   "name": "python3"
  },
  "language_info": {
   "codemirror_mode": {
    "name": "ipython",
    "version": 3
   },
   "file_extension": ".py",
   "mimetype": "text/x-python",
   "name": "python",
   "nbconvert_exporter": "python",
   "pygments_lexer": "ipython3",
   "version": "3.8.10"
  },
  "orig_nbformat": 4,
  "vscode": {
   "interpreter": {
    "hash": "31f2aee4e71d21fbe5cf8b01ff0e069b9275f58929596ceb00d14d90e3e16cd6"
   }
  }
 },
 "nbformat": 4,
 "nbformat_minor": 2
}
