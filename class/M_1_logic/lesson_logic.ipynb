{
 "cells": [
  {
   "cell_type": "code",
   "execution_count": null,
   "metadata": {},
   "outputs": [],
   "source": []
  },
  {
   "cell_type": "code",
   "execution_count": null,
   "metadata": {},
   "outputs": [],
   "source": []
  },
  {
   "cell_type": "code",
   "execution_count": 1,
   "metadata": {},
   "outputs": [
    {
     "name": "stdout",
     "output_type": "stream",
     "text": [
      "Seu numero float eh 5.0, Seu numero int é 5\n"
     ]
    }
   ],
   "source": [
    "n = input('Digite um numero')\n",
    "print('Seu numero float eh {}, Seu numero int é {}'.format(float(n), int(float(n))))"
   ]
  },
  {
   "cell_type": "code",
   "execution_count": 8,
   "metadata": {},
   "outputs": [
    {
     "name": "stdout",
     "output_type": "stream",
     "text": [
      "49.298\n"
     ]
    }
   ],
   "source": [
    "raio = float(input(\"Digite o raio do círculo: \"))\n",
    "area = raio * pow(3.14, 2)\n",
    "print(area)"
   ]
  },
  {
   "cell_type": "code",
   "execution_count": 9,
   "metadata": {},
   "outputs": [
    {
     "name": "stdout",
     "output_type": "stream",
     "text": [
      "24000.0\n"
     ]
    }
   ],
   "source": [
    "# Faça um programa que pergunte quanto você ganha por hora e o\n",
    "# número de horas trabalhadas no mês e depois, calcule e mostre o\n",
    "# total do seu salário no referido mês.\n",
    "quanto_ganha_hora = float(input(\"Quanto ganha por hora?\"))\n",
    "horas_trabalhadas = float(input(\"Horas trabalhadas no mês: \"))\n",
    "salario = quanto_ganha_hora * horas_trabalhadas\n",
    "print(salario)"
   ]
  },
  {
   "cell_type": "code",
   "execution_count": 11,
   "metadata": {},
   "outputs": [
    {
     "name": "stdout",
     "output_type": "stream",
     "text": [
      "85.0\n"
     ]
    }
   ],
   "source": [
    "# Faça um programa que peça a temperatura em graus Fahrenheit (F),\n",
    "# transforme e mostre a temperatura em graus Celsius (°C).\n",
    "# °C = (5 * (F-32) / 9)\n",
    "# Obs: Tente também fazer um programa que faça o inverso: peça a\n",
    "# temperatura em graus Celsius e a transforme em graus Fahrenheit.\n",
    "f = float(input('digite a temperatura em fahrenheit: '))\n",
    "c = 5 * (f-32) / 9\n",
    "print(round(c, 2))"
   ]
  },
  {
   "cell_type": "code",
   "execution_count": 12,
   "metadata": {},
   "outputs": [
    {
     "name": "stdout",
     "output_type": "stream",
     "text": [
      "07/11/2022\n"
     ]
    }
   ],
   "source": [
    "dia = input(\"dia: \")\n",
    "mes = input(\"mês: \")\n",
    "ano = input(\"ano: \")\n",
    "print(f\"{dia}/{mes}/{ano}\")"
   ]
  },
  {
   "cell_type": "code",
   "execution_count": 13,
   "metadata": {},
   "outputs": [
    {
     "name": "stdout",
     "output_type": "stream",
     "text": [
      "o produto do dobro do primeiro com metade do segundo. -5\n",
      "a soma do triplo do primeiro com o terceiro. -13.8\n",
      "o terceiro elevado ao cubo. 1.7279999999999998\n"
     ]
    }
   ],
   "source": [
    "n1 = int(input(\"Digite um número inteiro\"))\n",
    "n2 = int(input(\"Digite um número inteiro\"))\n",
    "n3 = float(input(\"Digite um número real\"))\n",
    "a = n1 * n2\n",
    "b = n1 * 3 + n3\n",
    "c = pow(n3, 3)\n",
    "print(\"o produto do dobro do primeiro com metade do segundo.\", a)\n",
    "print(\"a soma do triplo do primeiro com o terceiro.\", b)\n",
    "print(\"o terceiro elevado ao cubo.\", c)"
   ]
  },
  {
   "cell_type": "code",
   "execution_count": 18,
   "metadata": {},
   "outputs": [
    {
     "name": "stdout",
     "output_type": "stream",
     "text": [
      "2022-11-07 21:37:05.356310\n"
     ]
    }
   ],
   "source": [
    "# Faça um programa que informe a data e a hora para o usuário. Para\n",
    "# isso use a função datetime.now() do módulo datetime.\n",
    "from datetime import datetime\n",
    "\n",
    "\n",
    "data = datetime.now()\n",
    "print(data)"
   ]
  }
 ],
 "metadata": {
  "kernelspec": {
   "display_name": "Python 3.8.10 64-bit",
   "language": "python",
   "name": "python3"
  },
  "language_info": {
   "codemirror_mode": {
    "name": "ipython",
    "version": 3
   },
   "file_extension": ".py",
   "mimetype": "text/x-python",
   "name": "python",
   "nbconvert_exporter": "python",
   "pygments_lexer": "ipython3",
   "version": "3.8.10"
  },
  "orig_nbformat": 4,
  "vscode": {
   "interpreter": {
    "hash": "916dbcbb3f70747c44a77c7bcd40155683ae19c65e1c03b4aa3499c5328201f1"
   }
  }
 },
 "nbformat": 4,
 "nbformat_minor": 2
}
