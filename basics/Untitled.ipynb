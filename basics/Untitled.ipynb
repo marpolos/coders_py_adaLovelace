{
 "cells": [
  {
   "cell_type": "code",
   "execution_count": 1,
   "id": "681db16a",
   "metadata": {},
   "outputs": [
    {
     "name": "stdout",
     "output_type": "stream",
     "text": [
      "Hello, World!\n"
     ]
    }
   ],
   "source": [
    "print(\"Hello, World!\")"
   ]
  },
  {
   "cell_type": "code",
   "execution_count": 2,
   "id": "bf4091f4",
   "metadata": {},
   "outputs": [
    {
     "name": "stdout",
     "output_type": "stream",
     "text": [
      "5\n"
     ]
    }
   ],
   "source": [
    "x = 5\n",
    "print(x)"
   ]
  },
  {
   "cell_type": "code",
   "execution_count": 6,
   "id": "1a5f61e5",
   "metadata": {},
   "outputs": [
    {
     "name": "stdout",
     "output_type": "stream",
     "text": [
      "<class 'int'>\n"
     ]
    }
   ],
   "source": [
    "print(type(x))\n"
   ]
  },
  {
   "cell_type": "code",
   "execution_count": 7,
   "id": "20f88c85",
   "metadata": {},
   "outputs": [
    {
     "name": "stdout",
     "output_type": "stream",
     "text": [
      "19.99 <class 'float'>\n"
     ]
    }
   ],
   "source": [
    "preco = 19.99\n",
    "print(preco, type(preco))"
   ]
  },
  {
   "cell_type": "code",
   "execution_count": 8,
   "id": "97b8f321",
   "metadata": {},
   "outputs": [
    {
     "data": {
      "text/plain": [
       "True"
      ]
     },
     "execution_count": 8,
     "metadata": {},
     "output_type": "execute_result"
    }
   ],
   "source": [
    "3 > 2 > 1"
   ]
  },
  {
   "cell_type": "code",
   "execution_count": 12,
   "id": "609fb262",
   "metadata": {},
   "outputs": [
    {
     "name": "stdout",
     "output_type": "stream",
     "text": [
      "5.0\n",
      "5\n",
      "0\n"
     ]
    }
   ],
   "source": [
    "x = 10\n",
    "y = 2\n",
    "print(x / y)\n",
    "print(x // y)\n",
    "print(x % y)"
   ]
  },
  {
   "cell_type": "code",
   "execution_count": 13,
   "id": "0d97c195",
   "metadata": {},
   "outputs": [
    {
     "name": "stdout",
     "output_type": "stream",
     "text": [
      "False\n"
     ]
    }
   ],
   "source": [
    "tem_cafe = True\n",
    "print(not tem_cafe) #operadores: or, and, not"
   ]
  },
  {
   "cell_type": "code",
   "execution_count": 14,
   "id": "d43110df",
   "metadata": {},
   "outputs": [
    {
     "name": "stdout",
     "output_type": "stream",
     "text": [
      "Insira a idade27\n",
      "27 <class 'str'>\n"
     ]
    }
   ],
   "source": [
    "idade = input(\"Insira a idade\")\n",
    "print(idade, type(idade)) # como no C# o input sempre retorna string"
   ]
  },
  {
   "cell_type": "code",
   "execution_count": 15,
   "id": "d75f845a",
   "metadata": {},
   "outputs": [
    {
     "name": "stdout",
     "output_type": "stream",
     "text": [
      "27 <class 'int'>\n"
     ]
    }
   ],
   "source": [
    "idade = int(idade)\n",
    "print(idade, type(idade))"
   ]
  },
  {
   "cell_type": "code",
   "execution_count": 20,
   "id": "66da1c03",
   "metadata": {},
   "outputs": [
    {
     "name": "stdout",
     "output_type": "stream",
     "text": [
      "Qual valor da corrida?23\n",
      "Aguarde um pouco, o valor pode baixar.\n"
     ]
    }
   ],
   "source": [
    "valor_passagem = 4.3\n",
    "valor_corrida = input(\"Qual valor da corrida?\")\n",
    "if float(valor_corrida) <= valor_passagem * 4:\n",
    "    print(\"Pague a corrida\")\n",
    "elif float(valor_corrida) <= valor_passagem * 6:\n",
    "    print(\"Aguarde um pouco, o valor pode baixar.\")\n",
    "else: print(\"Pegue o bus\")"
   ]
  },
  {
   "cell_type": "code",
   "execution_count": 21,
   "id": "724ceeb7",
   "metadata": {},
   "outputs": [
    {
     "name": "stdout",
     "output_type": "stream",
     "text": [
      "Item limpo\n",
      "Itens limpos\n",
      "Itens limpos\n",
      "Itens limpos\n",
      "Itens limpos\n",
      "Itens limpos\n",
      "Itens limpos\n",
      "Itens limpos\n",
      "Itens limpos\n",
      "Itens limpos\n",
      "Fim da lavação\n"
     ]
    }
   ],
   "source": [
    "contador = 0\n",
    "while contador < 10:\n",
    "    contador += 1\n",
    "    if contador == 1:\n",
    "        print(\"Item limpo\")\n",
    "    else:\n",
    "        print(\"Itens limpos\")\n",
    "print(\"Fim da lavação\")"
   ]
  },
  {
   "cell_type": "code",
   "execution_count": null,
   "id": "f574410b",
   "metadata": {},
   "outputs": [],
   "source": []
  }
 ],
 "metadata": {
  "kernelspec": {
   "display_name": "Python 3 (ipykernel)",
   "language": "python",
   "name": "python3"
  },
  "language_info": {
   "codemirror_mode": {
    "name": "ipython",
    "version": 3
   },
   "file_extension": ".py",
   "mimetype": "text/x-python",
   "name": "python",
   "nbconvert_exporter": "python",
   "pygments_lexer": "ipython3",
   "version": "3.8.10"
  }
 },
 "nbformat": 4,
 "nbformat_minor": 5
}
