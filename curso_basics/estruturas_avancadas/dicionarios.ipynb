{
 "cells": [
  {
   "cell_type": "code",
   "execution_count": 1,
   "metadata": {},
   "outputs": [
    {
     "name": "stdout",
     "output_type": "stream",
     "text": [
      "<class 'dict'>\n",
      "{'nome': 'São Paulo', 'estado': 'SP', 'pop_milhoes': 12.18}\n"
     ]
    }
   ],
   "source": [
    "# Listas e tuplas são uma coleção ordenada de elemntos\n",
    "# O dicionário é uma coleção desordenada, ele é um mapeamento => key: value\n",
    "dados_cidade = {\n",
    "    \"nome\": \"São Paulo\",\n",
    "    \"estado\": \"SP\",\n",
    "    \"pop_milhoes\": 12.18\n",
    "}\n",
    "\n",
    "\n",
    "print(type(dados_cidade))\n",
    "print(dados_cidade)"
   ]
  },
  {
   "cell_type": "code",
   "execution_count": 4,
   "metadata": {},
   "outputs": [
    {
     "name": "stdout",
     "output_type": "stream",
     "text": [
      "{'nome': 'São Paulo', 'estado': 'SP', 'pop_milhoes': 12.18, 'pais': 'Brasil'}\n",
      "São Paulo\n",
      "{'nome': 'Guarulhos', 'estado': 'SP', 'pop_milhoes': 12.18, 'pais': 'Brasil'}\n"
     ]
    }
   ],
   "source": [
    "# Adicionar valor e acessar\n",
    "dados_cidade[\"pais\"] = \"Brasil\"\n",
    "print(dados_cidade)\n",
    "print(dados_cidade[\"nome\"])\n",
    "#Atualizar valor\n",
    "\n",
    "dados_cidade[\"nome\"] = \"Guarulhos\"\n",
    "print(dados_cidade)"
   ]
  },
  {
   "cell_type": "code",
   "execution_count": 5,
   "metadata": {},
   "outputs": [
    {
     "name": "stdout",
     "output_type": "stream",
     "text": [
      "{'nome': 'São Bernardo dos campos', 'estado': 'SP', 'pop_milhoes': 12.18, 'pais': 'Brasil'}\n",
      "{'nome': 'Guarulhos', 'estado': 'SP', 'pop_milhoes': 12.18, 'pais': 'Brasil'}\n"
     ]
    }
   ],
   "source": [
    "#Dicionário é uma referência, então para alterar dados podemos fazer um copy\n",
    "dados_cidade_2 = dados_cidade.copy()\n",
    "dados_cidade_2[\"nome\"] = \"São Bernardo dos campos\"\n",
    "print(dados_cidade_2)\n",
    "print(dados_cidade)"
   ]
  },
  {
   "cell_type": "code",
   "execution_count": 6,
   "metadata": {},
   "outputs": [
    {
     "name": "stdout",
     "output_type": "stream",
     "text": [
      "{'nome': 'Guarulhos', 'estado': 'SP', 'pop_milhoes': 15, 'pais': 'Brasil', 'fundacao': '25/01/1554'}\n"
     ]
    }
   ],
   "source": [
    "#Combinar dados\n",
    "novo_dict = {\n",
    "    \"pop_milhoes\" : 15,\n",
    "    \"fundacao\" : \"25/01/1554\"\n",
    "}\n",
    "dados_cidade.update(novo_dict)\n",
    "print(dados_cidade)"
   ]
  },
  {
   "cell_type": "code",
   "execution_count": 7,
   "metadata": {},
   "outputs": [
    {
     "name": "stdout",
     "output_type": "stream",
     "text": [
      "None\n"
     ]
    }
   ],
   "source": [
    "#Método get retorna none, em vez de erro\n",
    "print(dados_cidade.get(\"prefeito\"))"
   ]
  },
  {
   "cell_type": "code",
   "execution_count": 10,
   "metadata": {},
   "outputs": [
    {
     "name": "stdout",
     "output_type": "stream",
     "text": [
      "{'nome': 'Guarulhos', 'estado': 'SP', 'pop_milhoes': 15, 'pais': 'Brasil', 'fundacao': '25/01/1554'}\n",
      "dict_keys(['nome', 'estado', 'pop_milhoes', 'pais', 'fundacao'])\n",
      "dict_values(['Guarulhos', 'SP', 15, 'Brasil', '25/01/1554'])\n",
      "dict_items([('nome', 'Guarulhos'), ('estado', 'SP'), ('pop_milhoes', 15), ('pais', 'Brasil'), ('fundacao', '25/01/1554')])\n"
     ]
    }
   ],
   "source": [
    "#Transformar dict em lista\n",
    "print(dados_cidade)\n",
    "print(dados_cidade.keys())\n",
    "print(dados_cidade.values())\n",
    "print(dados_cidade.items())"
   ]
  }
 ],
 "metadata": {
  "kernelspec": {
   "display_name": "Python 3.8.10 64-bit",
   "language": "python",
   "name": "python3"
  },
  "language_info": {
   "codemirror_mode": {
    "name": "ipython",
    "version": 3
   },
   "file_extension": ".py",
   "mimetype": "text/x-python",
   "name": "python",
   "nbconvert_exporter": "python",
   "pygments_lexer": "ipython3",
   "version": "3.8.10"
  },
  "orig_nbformat": 4,
  "vscode": {
   "interpreter": {
    "hash": "916dbcbb3f70747c44a77c7bcd40155683ae19c65e1c03b4aa3499c5328201f1"
   }
  }
 },
 "nbformat": 4,
 "nbformat_minor": 2
}
