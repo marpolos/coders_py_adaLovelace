{
 "cells": [
  {
   "cell_type": "code",
   "execution_count": 1,
   "metadata": {},
   "outputs": [
    {
     "name": "stdout",
     "output_type": "stream",
     "text": [
      "Hello World\n"
     ]
    }
   ],
   "source": [
    "def hello():\n",
    "    print(\"Hello World\")\n",
    "\n",
    "hello()"
   ]
  },
  {
   "cell_type": "code",
   "execution_count": 4,
   "metadata": {},
   "outputs": [
    {
     "name": "stdout",
     "output_type": "stream",
     "text": [
      "Olá, Marcelle\n",
      "2.5\n",
      "8.5\n",
      "0.0\n"
     ]
    }
   ],
   "source": [
    "# parâmteros podem ter default\n",
    "print(\"Olá\", end=\"\")\n",
    "print(\", Marcelle\")\n",
    "\n",
    "# default deve sempre ser declarado após os que não possuem default\n",
    "def calcula_media(valor1=0, valor2=0):\n",
    "    soma = valor1 + valor2\n",
    "    media = soma /2\n",
    "    return media\n",
    "\n",
    "print(calcula_media(2, 3))\n",
    "print(calcula_media(valor1=7, valor2=10))\n",
    "print(calcula_media())"
   ]
  },
  {
   "cell_type": "code",
   "execution_count": 2,
   "metadata": {},
   "outputs": [
    {
     "name": "stdout",
     "output_type": "stream",
     "text": [
      "(4, 5, 6) <class 'tuple'>\n"
     ]
    },
    {
     "data": {
      "text/plain": [
       "5.0"
      ]
     },
     "execution_count": 2,
     "metadata": {},
     "output_type": "execute_result"
    }
   ],
   "source": [
    "#args\n",
    "def media(*args):\n",
    "    print(args, type(args))\n",
    "    soma = sum(args)\n",
    "    media = soma / len(args)\n",
    "    return media\n",
    "\n",
    "media(4, 5, 6)"
   ]
  },
  {
   "cell_type": "code",
   "execution_count": 5,
   "metadata": {},
   "outputs": [
    {
     "name": "stdout",
     "output_type": "stream",
     "text": [
      "(4, 5, 6) <class 'tuple'>\n"
     ]
    },
    {
     "data": {
      "text/plain": [
       "5.6"
      ]
     },
     "execution_count": 5,
     "metadata": {},
     "output_type": "execute_result"
    }
   ],
   "source": [
    "def margem(*args, marge):\n",
    "    print(args, type(args))\n",
    "    soma = sum(args)\n",
    "    media = soma / len(args)\n",
    "    return media + marge\n",
    "\n",
    "margem(4, 5, 6, marge=0.6)"
   ]
  },
  {
   "cell_type": "code",
   "execution_count": 6,
   "metadata": {},
   "outputs": [
    {
     "name": "stdout",
     "output_type": "stream",
     "text": [
      "{'nome': 'Marcelle', 'sobrenome': 'Monteiro'} <class 'dict'>\n"
     ]
    }
   ],
   "source": [
    "#kuargs\n",
    "#Nessa tecnica todos os parâmetros da chamada devem ser nomeados\n",
    "def print_info(**kuargs):\n",
    "    print(kuargs, type(kuargs))\n",
    "\n",
    "print_info(nome=\"Marcelle\", sobrenome=\"Monteiro\")"
   ]
  }
 ],
 "metadata": {
  "kernelspec": {
   "display_name": "Python 3.8.10 64-bit",
   "language": "python",
   "name": "python3"
  },
  "language_info": {
   "codemirror_mode": {
    "name": "ipython",
    "version": 3
   },
   "file_extension": ".py",
   "mimetype": "text/x-python",
   "name": "python",
   "nbconvert_exporter": "python",
   "pygments_lexer": "ipython3",
   "version": "3.8.10"
  },
  "orig_nbformat": 4,
  "vscode": {
   "interpreter": {
    "hash": "31f2aee4e71d21fbe5cf8b01ff0e069b9275f58929596ceb00d14d90e3e16cd6"
   }
  }
 },
 "nbformat": 4,
 "nbformat_minor": 2
}
