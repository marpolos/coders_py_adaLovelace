{
 "cells": [
  {
   "cell_type": "code",
   "execution_count": 2,
   "metadata": {},
   "outputs": [
    {
     "name": "stdout",
     "output_type": "stream",
     "text": [
      "CAPÍTULO PRIMEIRODO TÍTULO\n",
      "Uma noite destas, vindo da cidade para o Engenho Novo, encontrei no trem da Central um rapaz aqui do bairro, que eu conheço de vista e de chapéu. Cumprimentou-me, sentou-se ao pé de mim, falou da Lua e dos ministros, e acabou recitando-me versos. A viagem era curta, e os versos pode ser que não fossem inteiramente maus. Sucedeu, porém, que, como eu estava cansado, fechei os olhos três ou quatro vezes; tanto bastou para que ele interrompesse a leitura e metesse os versos no bolso. — Continue, disse eu acordando. — Já acabei, murmurou ele. — São muito bonitos. Vi-lhe fazer um gesto para tirá-los outra vez do bolso, mas não passou do gesto; estava amuado. No dia seguinte entrou a dizer de mim nomes feios, e acabou alcunhando-me Dom Casmurro. Os vizinhos, que não gostam dos meus hábitos reclusos e calados, deram curso à alcunha, que afinal pegou. Nem por isso me zanguei. Contei a anedota aos amigos da cidade, e eles, por graça, chamam-me assim, alguns em bilhetes: \"Dom Casmurro, domingo vou jantar com você”.— \"Vou para Petrópolis, Dom Casmurro; a casa é a mesma da Renânia; vê se deixas essa caverna do Engenho Novo, e vai lá passar uns quinze dias comigo”.— \"Meu caro Dom Casmurro, não cuide que o dispenso do teatro amanhã; venha e dormirá aqui na cidade; dou-lhe camarote, dou-lhe chá, dou-lhe cama; só não lhe dou moça”.Não consultes dicionários. Casmurro não está aqui no sentido que eles lhe dão, mas no que lhe pôs o vulgo de homem calado e metido consigo. Dom veio por ironia, para atribuir-me fumos de fidalgo. Tudo por estar cochilando! Também não achei melhor título para a minha narração; se não tiver outro daqui até ao fim do livro, vai este mesmo. O meu poeta do trem ficará sabendo que não lhe guardo rancor. E com pequeno esforço, sendo o título seu, poderá cuidar que a obra é sua. Há livros que apenas terão isso dos seus autores; alguns nem tanto. \n"
     ]
    }
   ],
   "source": [
    "arquivo = open(\"dom_casmurro.txt\", \"r\", encoding=\"utf-8\")\n",
    "#O encoding não é necessário aqui, mas usei para saber que existe\n",
    "texto = arquivo.read()\n",
    "print(texto)\n",
    "arquivo.close()"
   ]
  },
  {
   "cell_type": "code",
   "execution_count": 4,
   "metadata": {},
   "outputs": [
    {
     "name": "stdout",
     "output_type": "stream",
     "text": [
      "CAPÍTULO PRIMEIRODO TÍTULO\n",
      "Uma noite destas, vindo da cidade para o Engenho Novo, encontrei no trem da Central um rapaz aqui do bairro, que eu conheço de vista e de chapéu. Cumprimentou-me, sentou-se ao pé de mim, falou da Lua e dos ministros, e acabou recitando-me versos. A viagem era curta, e os versos pode ser que não fossem inteiramente maus. Sucedeu, porém, que, como eu estava cansado, fechei os olhos três ou quatro vezes; tanto bastou para que ele interrompesse a leitura e metesse os versos no bolso. \n",
      "— Continue, disse eu acordando. \n",
      "— Já acabei, murmurou ele. \n",
      "— São muito bonitos. \n",
      "Vi-lhe fazer um gesto para tirá-los outra vez do bolso, mas não passou do gesto; estava amuado. No dia seguinte entrou a dizer de mim nomes feios, e acabou alcunhando-me Dom Casmurro. Os vizinhos, que não gostam dos meus hábitos reclusos e calados, deram curso à alcunha, que afinal pegou. Nem por isso me zanguei. Contei a anedota aos amigos da cidade, e eles, por graça, chamam-me assim, alguns em bilhetes: \"Dom Casmurro, domingo vou jantar com você”.\n",
      "— \"Vou para Petrópolis, Dom Casmurro; a casa é a mesma da Renânia; vê se deixas essa caverna do Engenho Novo, e vai lá passar uns quinze dias comigo”.\n",
      "— \"Meu caro Dom Casmurro, não cuide que o dispenso do teatro amanhã; venha e dormirá aqui na cidade; dou-lhe camarote, dou-lhe chá, dou-lhe cama; só não lhe dou moça”.\n",
      "Não consultes dicionários. Casmurro não está aqui no sentido que eles lhe dão, mas no que lhe pôs o vulgo de homem calado e metido consigo. Dom veio por ironia, para atribuir-me fumos de fidalgo. Tudo por estar cochilando! Também não achei melhor título para a minha narração; se não tiver outro daqui até ao fim do livro, vai este mesmo. O meu poeta do trem ficará sabendo que não lhe guardo rancor. E com pequeno esforço, sendo o título seu, poderá cuidar que a obra é sua. Há livros que apenas terão isso dos seus autores; alguns nem tanto. "
     ]
    }
   ],
   "source": [
    "arquivo = open(\"dom_casmurro.txt\", \"r\")\n",
    "linha = arquivo.readline()\n",
    "\n",
    "#py tem uma função chamado cursos que verifica em qual linha estamos,\n",
    "#por isso uso o while para continuar a leitura até terminar.\n",
    "while linha != '':\n",
    "    print(linha, end='')\n",
    "    linha = arquivo.readline()\n",
    "\n",
    "arquivo.close()"
   ]
  },
  {
   "cell_type": "code",
   "execution_count": 5,
   "metadata": {},
   "outputs": [
    {
     "name": "stdout",
     "output_type": "stream",
     "text": [
      "CAPÍTULO PRIMEIRODO TÍTULO\n",
      "\n",
      "Uma noite destas, vindo da cidade para o Engenho Novo, encontrei no trem da Central um rapaz aqui do bairro, que eu conheço de vista e de chapéu. Cumprimentou-me, sentou-se ao pé de mim, falou da Lua e dos ministros, e acabou recitando-me versos. A viagem era curta, e os versos pode ser que não fossem inteiramente maus. Sucedeu, porém, que, como eu estava cansado, fechei os olhos três ou quatro vezes; tanto bastou para que ele interrompesse a leitura e metesse os versos no bolso. \n",
      "\n",
      "— Continue, disse eu acordando. \n",
      "\n",
      "— Já acabei, murmurou ele. \n",
      "\n",
      "— São muito bonitos. \n",
      "\n",
      "Vi-lhe fazer um gesto para tirá-los outra vez do bolso, mas não passou do gesto; estava amuado. No dia seguinte entrou a dizer de mim nomes feios, e acabou alcunhando-me Dom Casmurro. Os vizinhos, que não gostam dos meus hábitos reclusos e calados, deram curso à alcunha, que afinal pegou. Nem por isso me zanguei. Contei a anedota aos amigos da cidade, e eles, por graça, chamam-me assim, alguns em bilhetes: \"Dom Casmurro, domingo vou jantar com você”.\n",
      "\n",
      "— \"Vou para Petrópolis, Dom Casmurro; a casa é a mesma da Renânia; vê se deixas essa caverna do Engenho Novo, e vai lá passar uns quinze dias comigo”.\n",
      "\n",
      "— \"Meu caro Dom Casmurro, não cuide que o dispenso do teatro amanhã; venha e dormirá aqui na cidade; dou-lhe camarote, dou-lhe chá, dou-lhe cama; só não lhe dou moça”.\n",
      "\n",
      "Não consultes dicionários. Casmurro não está aqui no sentido que eles lhe dão, mas no que lhe pôs o vulgo de homem calado e metido consigo. Dom veio por ironia, para atribuir-me fumos de fidalgo. Tudo por estar cochilando! Também não achei melhor título para a minha narração; se não tiver outro daqui até ao fim do livro, vai este mesmo. O meu poeta do trem ficará sabendo que não lhe guardo rancor. E com pequeno esforço, sendo o título seu, poderá cuidar que a obra é sua. Há livros que apenas terão isso dos seus autores; alguns nem tanto. \n"
     ]
    }
   ],
   "source": [
    "arquivo = open(\"dom_casmurro.txt\", \"r\")\n",
    "for linha in arquivo:\n",
    "    print(linha)\n",
    "\n",
    "arquivo.close()"
   ]
  },
  {
   "cell_type": "code",
   "execution_count": 6,
   "metadata": {},
   "outputs": [
    {
     "name": "stdout",
     "output_type": "stream",
     "text": [
      "CAPÍTULO PRIMEIRODO TÍTULO\n",
      "Uma noite destas, vindo da cidade para o Engenho Novo, encontrei no trem da Central um rapaz aqui do bairro, que eu conheço de vista e de chapéu. Cumprimentou-me, sentou-se ao pé de mim, falou da Lua e dos ministros, e acabou recitando-me versos. A viagem era curta, e os versos pode ser que não fossem inteiramente maus. Sucedeu, porém, que, como eu estava cansado, fechei os olhos três ou quatro vezes; tanto bastou para que ele interrompesse a leitura e metesse os versos no bolso. \n",
      "— Continue, disse eu acordando. \n",
      "— Já acabei, murmurou ele. \n",
      "— São muito bonitos. \n",
      "Vi-lhe fazer um gesto para tirá-los outra vez do bolso, mas não passou do gesto; estava amuado. No dia seguinte entrou a dizer de mim nomes feios, e acabou alcunhando-me Dom Casmurro. Os vizinhos, que não gostam dos meus hábitos reclusos e calados, deram curso à alcunha, que afinal pegou. Nem por isso me zanguei. Contei a anedota aos amigos da cidade, e eles, por graça, chamam-me assim, alguns em bilhetes: \"Dom Casmurro, domingo vou jantar com você”.\n",
      "— \"Vou para Petrópolis, Dom Casmurro; a casa é a mesma da Renânia; vê se deixas essa caverna do Engenho Novo, e vai lá passar uns quinze dias comigo”.\n",
      "— \"Meu caro Dom Casmurro, não cuide que o dispenso do teatro amanhã; venha e dormirá aqui na cidade; dou-lhe camarote, dou-lhe chá, dou-lhe cama; só não lhe dou moça”.\n",
      "Não consultes dicionários. Casmurro não está aqui no sentido que eles lhe dão, mas no que lhe pôs o vulgo de homem calado e metido consigo. Dom veio por ironia, para atribuir-me fumos de fidalgo. Tudo por estar cochilando! Também não achei melhor título para a minha narração; se não tiver outro daqui até ao fim do livro, vai este mesmo. O meu poeta do trem ficará sabendo que não lhe guardo rancor. E com pequeno esforço, sendo o título seu, poderá cuidar que a obra é sua. Há livros que apenas terão isso dos seus autores; alguns nem tanto. \n"
     ]
    }
   ],
   "source": [
    "#O with fecha automaticamente o arquivo\n",
    "with open(\"dom_casmurro.txt\", \"r\") as arquivo:\n",
    "    texto = arquivo.read()\n",
    "    print(texto)"
   ]
  },
  {
   "cell_type": "code",
   "execution_count": 18,
   "metadata": {},
   "outputs": [
    {
     "name": "stdout",
     "output_type": "stream",
     "text": [
      "Essa é uma linha que eu escrevi no python\n",
      "Essa é segunda linha que eu escrevi no python\n",
      "Essa é a terceira linha que eu escrevi no python\n",
      "\n",
      "Essa é uma linha que eu escrevi no python\n",
      "Essa é segunda linha que eu escrevi no python\n",
      "Essa é a terceira linha que eu escrevi no python\n",
      "Essa é quarta linha que eu escrevi no python\n",
      "Essa é quinta linha que eu escrevi no python\n",
      "Essa é a sexta linha que eu escrevi no python\n",
      "\n",
      "\n"
     ]
    }
   ],
   "source": [
    "with open(\"arquivo_teste.txt\", \"w\") as arquivo:\n",
    "    arquivo.write(\"Essa é uma linha que eu escrevi no python\\n\")\n",
    "    arquivo.write(\"Essa é segunda linha que eu escrevi no python\\n\")\n",
    "    arquivo.write(\"Essa é a terceira linha que eu escrevi no python\\n\")\n",
    "\n",
    "\n",
    "with open(\"arquivo_teste.txt\", \"r\") as arquivo:\n",
    "    print(arquivo.read())\n",
    "\n",
    "with open(\"arquivo_teste.txt\", \"a\") as arquivo:\n",
    "    arquivo.write(\"Essa é quarta linha que eu escrevi no python\\n\")\n",
    "    arquivo.write(\"Essa é quinta linha que eu escrevi no python\\n\")\n",
    "    arquivo.write(\"Essa é a sexta linha que eu escrevi no python\\n\")\n",
    "\n",
    "\n",
    "with open(\"arquivo_teste.txt\", \"r\") as arquivo:\n",
    "    print(arquivo.read())\n",
    "\n",
    "# Alguns modes podem combinar abrir e escrever: r+\n",
    "with open(\"arquivo_teste.txt\", \"a+\") as arquivo:\n",
    "    arquivo.write(\"Essa é sétima linha que eu escrevi no python\\n\")\n",
    "    arquivo.write(\"xablau\\n\")\n",
    "    arquivo.write(\"maria\\n\")\n",
    "    print(arquivo.read())"
   ]
  }
 ],
 "metadata": {
  "kernelspec": {
   "display_name": "Python 3.8.10 64-bit",
   "language": "python",
   "name": "python3"
  },
  "language_info": {
   "codemirror_mode": {
    "name": "ipython",
    "version": 3
   },
   "file_extension": ".py",
   "mimetype": "text/x-python",
   "name": "python",
   "nbconvert_exporter": "python",
   "pygments_lexer": "ipython3",
   "version": "3.8.10"
  },
  "orig_nbformat": 4,
  "vscode": {
   "interpreter": {
    "hash": "916dbcbb3f70747c44a77c7bcd40155683ae19c65e1c03b4aa3499c5328201f1"
   }
  }
 },
 "nbformat": 4,
 "nbformat_minor": 2
}
